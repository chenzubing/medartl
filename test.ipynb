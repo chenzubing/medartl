{
 "cells": [
  {
   "cell_type": "code",
   "execution_count": 1,
   "metadata": {},
   "outputs": [],
   "source": [
    "import os\n",
    "import openai\n",
    "import pandas as pd\n",
    "from Bio import Entrez, Medline\n",
    "import time\n",
    "import json\n",
    "import ast\n",
    "from tqdm import tqdm"
   ]
  },
  {
   "cell_type": "code",
   "execution_count": 2,
   "metadata": {},
   "outputs": [],
   "source": [
    "alldata = []\n",
    "with open('pubmed12345.txt',encoding='utf-8') as f:\n",
    "    pmids = Medline.parse(f)\n",
    "    for pmid in pmids:\n",
    "        try:\n",
    "            pid = pmid['PMID']\n",
    "        except:\n",
    "            pid = ''\n",
    "        try:\n",
    "            title = pmid['TI']\n",
    "        except:\n",
    "            title = ''\n",
    "        try:\n",
    "            abstract = pmid['AB']\n",
    "        except:\n",
    "            abstract = ''\n",
    "\n",
    "        dic = {'PMID':pid,'TI':title,'AB':abstract}\n",
    "        alldata.append(dic)\n",
    "\n",
    "df = pd.DataFrame(alldata)\n",
    "df.to_csv('output.csv',index=False)"
   ]
  },
  {
   "cell_type": "code",
   "execution_count": 3,
   "metadata": {},
   "outputs": [],
   "source": [
    "import os\n",
    "import openai\n",
    "import pandas\n",
    "from Bio import Entrez\n",
    "import time"
   ]
  },
  {
   "cell_type": "code",
   "execution_count": 4,
   "metadata": {},
   "outputs": [],
   "source": [
    "# 加载 .env 到环境变量\n",
    "from dotenv import load_dotenv, find_dotenv\n",
    "_ = load_dotenv(find_dotenv())\n"
   ]
  },
  {
   "cell_type": "code",
   "execution_count": 5,
   "metadata": {},
   "outputs": [
    {
     "name": "stdout",
     "output_type": "stream",
     "text": [
      "(41, 3)\n"
     ]
    }
   ],
   "source": [
    "from pandas import read_csv\n",
    "\n",
    "filename = \"output.csv\"\n",
    "\n",
    "data = read_csv(filename)\n",
    "print(data.shape)\n"
   ]
  },
  {
   "cell_type": "code",
   "execution_count": 6,
   "metadata": {},
   "outputs": [],
   "source": [
    "data['joined_content']=\"NA\"\n",
    "data['Note']=\"NA\"\n",
    "\n",
    "data['Chat_species']=\"NA\"\n",
    "data['token_species']=\"NA\"\n",
    "data['FoundYES_species']=\"NA\"\n",
    "data['FoundNO_species']=\"NA\"\n",
    "data['FoundNOTSURE_species']=\"NA\"\n",
    "data['FoundHOWEVER_species']=\"NA\"\n",
    "\n",
    "data['Chat_disease']=\"NA\"\n",
    "data['token_disease']=\"NA\"\n",
    "data['FoundYES_disease']=\"NA\"\n",
    "data['FoundNO_disease']=\"NA\"\n",
    "data['FoundNOTSURE_disease']=\"NA\"\n",
    "data['FoundHOWEVER_disease']=\"NA\"\n",
    "\n",
    "data['Chat_treatment']=\"NA\"\n",
    "data['token_treatment']=\"NA\"\n",
    "data['FoundYES_treatment']=\"NA\"\n",
    "data['FoundNO_treatment']=\"NA\"\n",
    "data['FoundNOTSURE_treatment']=\"NA\"\n",
    "data['FoundHOWEVER_treatment']=\"NA\"\n",
    "\n",
    "data['Chat_research_type']=\"NA\"\n",
    "data['token_research_type']=\"NA\"\n",
    "data['FoundYES_research_type']=\"NA\"\n",
    "data['FoundNO_research_type']=\"NA\"\n",
    "data['FoundNOTSURE_research_type']=\"NA\"\n",
    "data['FoundHOWEVER_research_type']=\"NA\"\n",
    "\n",
    "data['AllYES_summary']=\"NA\""
   ]
  },
  {
   "cell_type": "code",
   "execution_count": 7,
   "metadata": {},
   "outputs": [
    {
     "data": {
      "text/plain": [
       "<bound method IndexOpsMixin.tolist of Index(['PMID', 'TI', 'AB', 'joined_content', 'Note', 'Chat_species',\n",
       "       'token_species', 'FoundYES_species', 'FoundNO_species',\n",
       "       'FoundNOTSURE_species', 'FoundHOWEVER_species', 'Chat_disease',\n",
       "       'token_disease', 'FoundYES_disease', 'FoundNO_disease',\n",
       "       'FoundNOTSURE_disease', 'FoundHOWEVER_disease', 'Chat_treatment',\n",
       "       'token_treatment', 'FoundYES_treatment', 'FoundNO_treatment',\n",
       "       'FoundNOTSURE_treatment', 'FoundHOWEVER_treatment',\n",
       "       'Chat_research_type', 'token_research_type', 'FoundYES_research_type',\n",
       "       'FoundNO_research_type', 'FoundNOTSURE_research_type',\n",
       "       'FoundHOWEVER_research_type', 'AllYES_summary'],\n",
       "      dtype='object')>"
      ]
     },
     "execution_count": 7,
     "metadata": {},
     "output_type": "execute_result"
    }
   ],
   "source": [
    "data.columns.tolist\n"
   ]
  },
  {
   "cell_type": "code",
   "execution_count": 8,
   "metadata": {},
   "outputs": [],
   "source": [
    "na_rows = data[data['AllYES_summary']=='NA'].index.tolist()"
   ]
  },
  {
   "cell_type": "code",
   "execution_count": 9,
   "metadata": {},
   "outputs": [],
   "source": [
    "outputpath='outtest.csv'"
   ]
  },
  {
   "cell_type": "code",
   "execution_count": 10,
   "metadata": {},
   "outputs": [],
   "source": [
    "from openai import OpenAI"
   ]
  },
  {
   "cell_type": "code",
   "execution_count": 18,
   "metadata": {},
   "outputs": [],
   "source": [
    "MODEL=\"gpt-3.5-turbo-1106\"\n",
    "client = OpenAI(api_key=\"\")"
   ]
  },
  {
   "cell_type": "code",
   "execution_count": 31,
   "metadata": {},
   "outputs": [
    {
     "data": {
      "text/plain": [
       "''"
      ]
     },
     "execution_count": 31,
     "metadata": {},
     "output_type": "execute_result"
    }
   ],
   "source": [
    "os.environ.get(\"OPENAI_API_KEY\")"
   ]
  },
  {
   "cell_type": "code",
   "execution_count": 19,
   "metadata": {},
   "outputs": [],
   "source": [
    "completion = client.chat.completions.create(\n",
    "                model=MODEL, \n",
    "                messages=[{\"role\": \"system\", \"content\": \"I want you to act as a helpful assistant.\"},\n",
    "                          {\"role\": \"user\", \"content\": \"what is the capital of france\"}]\n",
    "            )"
   ]
  },
  {
   "cell_type": "code",
   "execution_count": 20,
   "metadata": {},
   "outputs": [
    {
     "data": {
      "text/plain": [
       "'The capital of France is Paris.'"
      ]
     },
     "execution_count": 20,
     "metadata": {},
     "output_type": "execute_result"
    }
   ],
   "source": [
    "completion.choices[0].message.content"
   ]
  },
  {
   "cell_type": "code",
   "execution_count": 14,
   "metadata": {},
   "outputs": [
    {
     "name": "stderr",
     "output_type": "stream",
     "text": [
      "/tmp/ipykernel_3312/2204197878.py:30: SettingWithCopyWarning: \n",
      "A value is trying to be set on a copy of a slice from a DataFrame\n",
      "\n",
      "See the caveats in the documentation: https://pandas.pydata.org/pandas-docs/stable/user_guide/indexing.html#returning-a-view-versus-a-copy\n",
      "  data[\"joined_content\"][i] = joined_content\n",
      "/tmp/ipykernel_3312/2204197878.py:31: SettingWithCopyWarning: \n",
      "A value is trying to be set on a copy of a slice from a DataFrame\n",
      "\n",
      "See the caveats in the documentation: https://pandas.pydata.org/pandas-docs/stable/user_guide/indexing.html#returning-a-view-versus-a-copy\n",
      "  data[\"Note\"][i] = \"length is too long\"\n"
     ]
    },
    {
     "name": "stdout",
     "output_type": "stream",
     "text": [
      "Title: [Surgical treatment of primary liver cancer:a report of 10 966 cases].. Abstract: Objective: To summarize the experience of surgical treatment of primary liver cancer. Methods: The clinical data of 10 966 surgically managed cases with primary liver cancer, from January 1986 to December 2019 at Hepatobiliary Center, the First Affiliated Hospital of Nanjing Medical University, were retrospectively analyzed. The life table method was used to calculate the survival rate and postoperative recurrence rate. Log-rank test was used to compare the survival process of different groups, and the Cox regression model was used for multivariate analysis. In addition, 2 884 cases of hepatocellular carcinoma(HCC) with more detailed follow-up data from 2009 to 2019 were selected for survival analysis. Among 2 549 patients treated with hepatectomy, there were 2 107 males and 442 females, with an age of (56.6±11.1) years (range: 20 to 86 years). Among 335 patients treated with liver transplantation, there were 292 males and 43 females, with an age of (51.0±9.7) years (range: 21 to 73 years). The outcomes of hepatectomy versus liver transplantation, anatomic versus non-anatomic hepatectomy were compared, respectively. Results: Of the 10 966 patients with primary liver cancer, 10 331 patients underwent hepatectomy and 635 patients underwent liver transplantation. Patients with liver resection were categorized into three groups: 1986－1995(712 cases), 1996－2008(3 988 cases), 2009‒2019(5 631 cases). The 5-year overall survival rate was 32.9% in the first group(1986－1995). The 5-year overall survival rate of resected primary liver cancer was 51.7% in the third group(2009-2019), among which the 5-year overal survival rates of hepatocellular carcinoma, intrahepatic cholangiocarcinoma and mixed liver cancer were 57.4%, 26.6% and 50.6%, respectively. Further analysis was performed on 2 549 HCC patients with primary hepatectomy. The 1-, 3-, 5-, and 10-year overall survival rates were 88.1%, 71.9%, 60.0%, and 41.0%, respectively, and the perioperative mortality rate was 1.0%. Two hundred and forty-seven HCC patients underwent primary liver transplantation, with 1-, 3-, 5-, and 10-year overall survival rates of 84.0%, 64.8%, 61.9%, and 57.6%, respectively. Eighty-eight HCC patients underwent salvage liver transplantation, with the 1-, 3-, 5-, and 10-year overall survival rates of 86.8%, 65.2%, 52.5%, and 52.5%, respectively. There was no significant difference in survival rates between the two groups with liver transplantation (P>0.05). Comparing the overall survival rates and recurrence rates of primary hepatectomy (2 549 cases) with primary liver transplantation (247 cases), the 1-, 3-, 5-, and 10-year overall survival rates in patients within Milan criteria treated with hepatectomy and transplantation were 96.3%, 87.1%, 76.9%, 54.7%, and 95.4%, 79.4%, 77.4%, 71.7%, respectively (P=0.754). The 1-, 3-, 5-year recurrence rates were 16.3%, 35.9%, 47.6% and 8.1%, 11.7%, 13.9\n",
      "ChatCompletion(id='chatcmpl-9WZ7gYJC3P5CuUmeUhvlSVbR7uYmj', choices=[Choice(finish_reason='stop', index=0, logprobs=None, message=ChatCompletionMessage(content='Yes, because the study involves the retrospective analysis of clinical data from 10,966 cases of surgically managed primary liver cancer in human subjects.', role='assistant', function_call=None, tool_calls=None))], created=1717548536, model='gpt-3.5-turbo-1106', object='chat.completion', system_fingerprint=None, usage=CompletionUsage(completion_tokens=29, prompt_tokens=897, total_tokens=926))\n"
     ]
    },
    {
     "name": "stderr",
     "output_type": "stream",
     "text": [
      "/tmp/ipykernel_3312/2204197878.py:52: SettingWithCopyWarning: \n",
      "A value is trying to be set on a copy of a slice from a DataFrame\n",
      "\n",
      "See the caveats in the documentation: https://pandas.pydata.org/pandas-docs/stable/user_guide/indexing.html#returning-a-view-versus-a-copy\n",
      "  data[\"Chat_species\"][i]=completion.choices[0].message.content\n",
      "/tmp/ipykernel_3312/2204197878.py:56: SettingWithCopyWarning: \n",
      "A value is trying to be set on a copy of a slice from a DataFrame\n",
      "\n",
      "See the caveats in the documentation: https://pandas.pydata.org/pandas-docs/stable/user_guide/indexing.html#returning-a-view-versus-a-copy\n",
      "  data[\"FoundYES_species\"][i]=\"Found\"\n",
      "/tmp/ipykernel_3312/2204197878.py:65: SettingWithCopyWarning: \n",
      "A value is trying to be set on a copy of a slice from a DataFrame\n",
      "\n",
      "See the caveats in the documentation: https://pandas.pydata.org/pandas-docs/stable/user_guide/indexing.html#returning-a-view-versus-a-copy\n",
      "  data[\"FoundNO_species\"][i]=\"NotFound\"\n",
      "/tmp/ipykernel_3312/2204197878.py:70: SettingWithCopyWarning: \n",
      "A value is trying to be set on a copy of a slice from a DataFrame\n",
      "\n",
      "See the caveats in the documentation: https://pandas.pydata.org/pandas-docs/stable/user_guide/indexing.html#returning-a-view-versus-a-copy\n",
      "  data[\"FoundNOTSURE_species\"][i]=\"NotFound\"\n",
      "/tmp/ipykernel_3312/2204197878.py:75: SettingWithCopyWarning: \n",
      "A value is trying to be set on a copy of a slice from a DataFrame\n",
      "\n",
      "See the caveats in the documentation: https://pandas.pydata.org/pandas-docs/stable/user_guide/indexing.html#returning-a-view-versus-a-copy\n",
      "  data[\"FoundHOWEVER_species\"][i]=\"NotFound\"\n"
     ]
    }
   ],
   "source": [
    "    i=1\n",
    "    temp_Title=data[\"TI\"][i]\n",
    "    temp_PMID=data[\"PMID\"][i]\n",
    "    #print(temp_PMID)\n",
    "    #print(temp_Title)\n",
    "    # Define the PMID of the article you want to retrieve\n",
    "    pmid = temp_PMID\n",
    "\n",
    "    # Use Entrez.efetch() to retrieve the article summary\n",
    "    pmid_str = str(pmid)\n",
    "\n",
    "\n",
    "        # Extract the article abstract from the record\n",
    "        # try:\n",
    "        #     handle = Entrez.efetch(db='pubmed', id=pmid_str, retmode='xml')\n",
    "        #     record = Entrez.read(handle)\n",
    "        #     abstract = record['PubmedArticle'][0]['MedlineCitation']['Article']['Abstract']['AbstractText']\n",
    "        # except KeyError:\n",
    "        #     abstract = 'No abstract found'\n",
    "\n",
    "    temp_Abstract=data[\"AB\"][i]\n",
    "\n",
    "        #print(temp_Abstract)\n",
    "    joined_content=''.join([\"Title: \",temp_Title,\". Abstract: \",temp_Abstract])\n",
    "\n",
    "    if len(joined_content) < 3000:\n",
    "            data[\"joined_content\"][i] = joined_content\n",
    "            data[\"Note\"][i] = \"qualified length\"\n",
    "    else:\n",
    "            data[\"joined_content\"][i] = joined_content\n",
    "            data[\"Note\"][i] = \"length is too long\"\n",
    "            joined_content = joined_content[0:3000]\n",
    "\n",
    "    print(joined_content)\n",
    "\n",
    "        #species#\n",
    "    try:\n",
    "            completion = client.chat.completions.create(\n",
    "                model=MODEL, \n",
    "                messages=[{\"role\": \"system\", \"content\": \"I want you to act as a helpful assistant. I will give you title and abstract of a publication and you will reply whether it meets our criteria or not. I want you to only reply with yes, no, or not sure, and followed with reasons. The criteria is: studies that use human as primary research subject.\"},\n",
    "                          {\"role\": \"user\", \"content\": joined_content}]\n",
    "            )\n",
    "    except KeyError:\n",
    "            completion = 'completion ERROR'\n",
    "    time.sleep(0.5)\n",
    "\n",
    "    print(completion)\n",
    "    if completion == 'completion ERROR':\n",
    "            data[\"Chat_species\"][i]='completion ERROR'\n",
    "            data[\"token_species\"][i]=0\n",
    "    else:    \n",
    "            data[\"Chat_species\"][i]=completion.choices[0].message.content\n",
    "            # data[\"token_species\"][i]=completion.usage.total_tokens\n",
    " \n",
    "    if \"yes\" in data[\"Chat_species\"][i][0:3].lower():\n",
    "            data[\"FoundYES_species\"][i]=\"Found\"\n",
    "    else:\n",
    "            data[\"FoundYES_species\"][i]=\"NotFound\"\n",
    "\n",
    "    if \"no.\" in data[\"Chat_species\"][i][0:3].lower():\n",
    "            data[\"FoundNO_species\"][i]=\"Found\"\n",
    "    elif \"no,\" in data[\"Chat_species\"][i][0:3].lower():\n",
    "            data[\"FoundNO_species\"][i]=\"Found\"\n",
    "    else:\n",
    "            data[\"FoundNO_species\"][i]=\"NotFound\"\n",
    "\n",
    "    if \"not sure\" in data[\"Chat_species\"][i][0:10].lower():\n",
    "            data[\"FoundNOTSURE_species\"][i]=\"Found\"\n",
    "    else:\n",
    "            data[\"FoundNOTSURE_species\"][i]=\"NotFound\"\n",
    "\n",
    "    if \"however\" in data[\"Chat_species\"][i].lower():\n",
    "            data[\"FoundHOWEVER_species\"][i]=\"Found\"\n",
    "    else:\n",
    "            data[\"FoundHOWEVER_species\"][i]=\"NotFound\"\n",
    "\n",
    "    data.to_csv(outputpath,sep=',',index=True,header=True)"
   ]
  },
  {
   "cell_type": "code",
   "execution_count": 40,
   "metadata": {},
   "outputs": [
    {
     "data": {
      "text/html": [
       "<div>\n",
       "<style scoped>\n",
       "    .dataframe tbody tr th:only-of-type {\n",
       "        vertical-align: middle;\n",
       "    }\n",
       "\n",
       "    .dataframe tbody tr th {\n",
       "        vertical-align: top;\n",
       "    }\n",
       "\n",
       "    .dataframe thead th {\n",
       "        text-align: right;\n",
       "    }\n",
       "</style>\n",
       "<table border=\"1\" class=\"dataframe\">\n",
       "  <thead>\n",
       "    <tr style=\"text-align: right;\">\n",
       "      <th></th>\n",
       "      <th>PMID</th>\n",
       "      <th>TI</th>\n",
       "      <th>AB</th>\n",
       "      <th>joined_content</th>\n",
       "      <th>Note</th>\n",
       "      <th>Chat_species</th>\n",
       "      <th>token_species</th>\n",
       "      <th>FoundYES_species</th>\n",
       "      <th>FoundNO_species</th>\n",
       "      <th>FoundNOTSURE_species</th>\n",
       "      <th>...</th>\n",
       "      <th>FoundNO_treatment</th>\n",
       "      <th>FoundNOTSURE_treatment</th>\n",
       "      <th>FoundHOWEVER_treatment</th>\n",
       "      <th>Chat_research_type</th>\n",
       "      <th>token_research_type</th>\n",
       "      <th>FoundYES_research_type</th>\n",
       "      <th>FoundNO_research_type</th>\n",
       "      <th>FoundNOTSURE_research_type</th>\n",
       "      <th>FoundHOWEVER_research_type</th>\n",
       "      <th>AllYES_summary</th>\n",
       "    </tr>\n",
       "  </thead>\n",
       "  <tbody>\n",
       "    <tr>\n",
       "      <th>0</th>\n",
       "      <td>34853654</td>\n",
       "      <td>Anatomical vs nonanatomical liver resection fo...</td>\n",
       "      <td>BACKGROUND: The long-term survival of patients...</td>\n",
       "      <td>NA</td>\n",
       "      <td>NA</td>\n",
       "      <td>NA</td>\n",
       "      <td>NA</td>\n",
       "      <td>NA</td>\n",
       "      <td>NA</td>\n",
       "      <td>NA</td>\n",
       "      <td>...</td>\n",
       "      <td>NA</td>\n",
       "      <td>NA</td>\n",
       "      <td>NA</td>\n",
       "      <td>NA</td>\n",
       "      <td>NA</td>\n",
       "      <td>NA</td>\n",
       "      <td>NA</td>\n",
       "      <td>NA</td>\n",
       "      <td>NA</td>\n",
       "      <td>NA</td>\n",
       "    </tr>\n",
       "  </tbody>\n",
       "</table>\n",
       "<p>1 rows × 30 columns</p>\n",
       "</div>"
      ],
      "text/plain": [
       "       PMID                                                 TI  \\\n",
       "0  34853654  Anatomical vs nonanatomical liver resection fo...   \n",
       "\n",
       "                                                  AB joined_content Note  \\\n",
       "0  BACKGROUND: The long-term survival of patients...             NA   NA   \n",
       "\n",
       "  Chat_species token_species FoundYES_species FoundNO_species  \\\n",
       "0           NA            NA               NA              NA   \n",
       "\n",
       "  FoundNOTSURE_species  ... FoundNO_treatment FoundNOTSURE_treatment  \\\n",
       "0                   NA  ...                NA                     NA   \n",
       "\n",
       "  FoundHOWEVER_treatment Chat_research_type token_research_type  \\\n",
       "0                     NA                 NA                  NA   \n",
       "\n",
       "  FoundYES_research_type FoundNO_research_type FoundNOTSURE_research_type  \\\n",
       "0                     NA                    NA                         NA   \n",
       "\n",
       "  FoundHOWEVER_research_type AllYES_summary  \n",
       "0                         NA             NA  \n",
       "\n",
       "[1 rows x 30 columns]"
      ]
     },
     "execution_count": 40,
     "metadata": {},
     "output_type": "execute_result"
    }
   ],
   "source": [
    "data.head(1)"
   ]
  },
  {
   "cell_type": "code",
   "execution_count": 41,
   "metadata": {},
   "outputs": [
    {
     "name": "stdout",
     "output_type": "stream",
     "text": [
      "0\n",
      "Title: Anatomical vs nonanatomical liver resection for solitary hepatocellular carcinoma: A systematic review and meta-analysis.. Abstract: BACKGROUND: The long-term survival of patients with solitary hepatocellular carcinoma (HCC) following anatomical resection (AR) vs non-anatomical resection (NAR) is still controversial. It is necessary to investigate which approach is better for patients with solitary HCC. AIM: To compare perioperative and long-term survival outcomes of AR and NAR for solitary HCC. METHODS: We performed a comprehensive literature search of PubMed, Medline (Ovid), Embase (Ovid), and Cochrane Library. Participants of any age and sex, who underwent liver resection, were considered following the following criteria: (1) Studies reporting AR vs NAR liver resection; (2) Studies focused on primary HCC with a solitary tumor; (3) Studies reporting the long-term survival outcomes (> 5 years); and (4) Studies including patients without history of preoperative treatment. The main results were overall survival (OS) and disease-free survival (DFS). Perioperative outcomes were also compared. RESULTS: A total of 14 studies, published between 2001 and 2020, were included in our meta-analysis, including 9444 patients who were mainly from China, Japan, and Korea. AR was performed on 4260 (44.8%) patients. The synthetic results showed that the 5-year OS [odds ratio (OR): 1.19; P < 0.001] and DFS (OR: 1.26; P < 0.001) were significantly better in the AR group than in the NAR group. AR was associated with longer operating time [mean difference (MD): 47.08; P < 0.001], more blood loss (MD: 169.29; P = 0.001), and wider surgical margin (MD = 1.35; P = 0.04) compared to NAR. There was no obvious difference in blood transfusion ratio (OR: 1.16; P = 0.65) or postoperative complications (OR: 1.24, P = 0.18). CONCLUSION: AR is superior to NAR in terms of long-term outcomes. Thus, AR can be recommended as a reasonable surgical option in patients with solitary HCC.\n"
     ]
    },
    {
     "name": "stderr",
     "output_type": "stream",
     "text": [
      "/tmp/ipykernel_2359/668022897.py:29: SettingWithCopyWarning: \n",
      "A value is trying to be set on a copy of a slice from a DataFrame\n",
      "\n",
      "See the caveats in the documentation: https://pandas.pydata.org/pandas-docs/stable/user_guide/indexing.html#returning-a-view-versus-a-copy\n",
      "  data[\"joined_content\"][i] = joined_content\n",
      "/tmp/ipykernel_2359/668022897.py:30: SettingWithCopyWarning: \n",
      "A value is trying to be set on a copy of a slice from a DataFrame\n",
      "\n",
      "See the caveats in the documentation: https://pandas.pydata.org/pandas-docs/stable/user_guide/indexing.html#returning-a-view-versus-a-copy\n",
      "  data[\"Note\"][i] = \"qualified length\"\n"
     ]
    },
    {
     "name": "stdout",
     "output_type": "stream",
     "text": [
      "1\n",
      "Title: [Surgical treatment of primary liver cancer:a report of 10 966 cases].. Abstract: Objective: To summarize the experience of surgical treatment of primary liver cancer. Methods: The clinical data of 10 966 surgically managed cases with primary liver cancer, from January 1986 to December 2019 at Hepatobiliary Center, the First Affiliated Hospital of Nanjing Medical University, were retrospectively analyzed. The life table method was used to calculate the survival rate and postoperative recurrence rate. Log-rank test was used to compare the survival process of different groups, and the Cox regression model was used for multivariate analysis. In addition, 2 884 cases of hepatocellular carcinoma(HCC) with more detailed follow-up data from 2009 to 2019 were selected for survival analysis. Among 2 549 patients treated with hepatectomy, there were 2 107 males and 442 females, with an age of (56.6±11.1) years (range: 20 to 86 years). Among 335 patients treated with liver transplantation, there were 292 males and 43 females, with an age of (51.0±9.7) years (range: 21 to 73 years). The outcomes of hepatectomy versus liver transplantation, anatomic versus non-anatomic hepatectomy were compared, respectively. Results: Of the 10 966 patients with primary liver cancer, 10 331 patients underwent hepatectomy and 635 patients underwent liver transplantation. Patients with liver resection were categorized into three groups: 1986－1995(712 cases), 1996－2008(3 988 cases), 2009‒2019(5 631 cases). The 5-year overall survival rate was 32.9% in the first group(1986－1995). The 5-year overall survival rate of resected primary liver cancer was 51.7% in the third group(2009-2019), among which the 5-year overal survival rates of hepatocellular carcinoma, intrahepatic cholangiocarcinoma and mixed liver cancer were 57.4%, 26.6% and 50.6%, respectively. Further analysis was performed on 2 549 HCC patients with primary hepatectomy. The 1-, 3-, 5-, and 10-year overall survival rates were 88.1%, 71.9%, 60.0%, and 41.0%, respectively, and the perioperative mortality rate was 1.0%. Two hundred and forty-seven HCC patients underwent primary liver transplantation, with 1-, 3-, 5-, and 10-year overall survival rates of 84.0%, 64.8%, 61.9%, and 57.6%, respectively. Eighty-eight HCC patients underwent salvage liver transplantation, with the 1-, 3-, 5-, and 10-year overall survival rates of 86.8%, 65.2%, 52.5%, and 52.5%, respectively. There was no significant difference in survival rates between the two groups with liver transplantation (P>0.05). Comparing the overall survival rates and recurrence rates of primary hepatectomy (2 549 cases) with primary liver transplantation (247 cases), the 1-, 3-, 5-, and 10-year overall survival rates in patients within Milan criteria treated with hepatectomy and transplantation were 96.3%, 87.1%, 76.9%, 54.7%, and 95.4%, 79.4%, 77.4%, 71.7%, respectively (P=0.754). The 1-, 3-, 5-year recurrence rates were 16.3%, 35.9%, 47.6% and 8.1%, 11.7%, 13.9\n"
     ]
    },
    {
     "name": "stderr",
     "output_type": "stream",
     "text": [
      "/tmp/ipykernel_2359/668022897.py:32: SettingWithCopyWarning: \n",
      "A value is trying to be set on a copy of a slice from a DataFrame\n",
      "\n",
      "See the caveats in the documentation: https://pandas.pydata.org/pandas-docs/stable/user_guide/indexing.html#returning-a-view-versus-a-copy\n",
      "  data[\"joined_content\"][i] = joined_content\n",
      "/tmp/ipykernel_2359/668022897.py:33: SettingWithCopyWarning: \n",
      "A value is trying to be set on a copy of a slice from a DataFrame\n",
      "\n",
      "See the caveats in the documentation: https://pandas.pydata.org/pandas-docs/stable/user_guide/indexing.html#returning-a-view-versus-a-copy\n",
      "  data[\"Note\"][i] = \"length is too long\"\n"
     ]
    },
    {
     "name": "stdout",
     "output_type": "stream",
     "text": [
      "2\n",
      "Title: Anatomic resection improved the long-term outcome of hepatocellular carcinoma patients with microvascular invasion: A prospective cohort study.. Abstract: BACKGROUND: The long-term effect of anatomic resection (AR) is better than that of non-anatomic resection (NAR). At present, there is no study on microvascular invasion (MVI) and liver resection types. AIM: To explore whether AR improves long-term survival in patients with hepatocellular carcinoma (HCC) by removing the peritumoral MVI. METHODS: A total of 217 patients diagnosed with HCC were enrolled in the study. The surgical margin was routinely measured. According to the stratification of different tumor diameters, patients were divided into the following groups: ≤ 2 cm group, 2-5 cm group, and > 5 cm group. RESULTS: In the 2-5 cm diameter group, the overall survival (OS) of MVI positive patients was significantly better than that of MVI negative patients (P = 0.031). For the MVI positive patients, there was a statistically significant difference between AR and NAR (P = 0.027). AR leads to a wider surgical margin than NAR (2.0 ± 2.3 cm vs 0.7 ± 0.5 cm, P < 0.001). In the groups with tumor diameters < 2 cm, both AR and NAR can obtain a wide surgical margin, and the surgical margins of AR are wider than that of NAR (3.5 ± 5.8 cm vs 1.6 ± 0.5 cm, P = 0.048). In the groups with tumor diameters > 5 cm, both AR and NAR fail to obtain wide surgical margin (0.6 ± 1.0 cm vs 0.7 ± 0.4 cm, P = 0.491). CONCLUSION: For patients with a tumor diameter of 2-5 cm, AR can achieve the removal of peritumoral MVI by obtaining a wide incision margin, reduce postoperative recurrence, and improve prognosis.\n"
     ]
    },
    {
     "name": "stderr",
     "output_type": "stream",
     "text": [
      "/tmp/ipykernel_2359/668022897.py:29: SettingWithCopyWarning: \n",
      "A value is trying to be set on a copy of a slice from a DataFrame\n",
      "\n",
      "See the caveats in the documentation: https://pandas.pydata.org/pandas-docs/stable/user_guide/indexing.html#returning-a-view-versus-a-copy\n",
      "  data[\"joined_content\"][i] = joined_content\n",
      "/tmp/ipykernel_2359/668022897.py:30: SettingWithCopyWarning: \n",
      "A value is trying to be set on a copy of a slice from a DataFrame\n",
      "\n",
      "See the caveats in the documentation: https://pandas.pydata.org/pandas-docs/stable/user_guide/indexing.html#returning-a-view-versus-a-copy\n",
      "  data[\"Note\"][i] = \"qualified length\"\n"
     ]
    },
    {
     "name": "stdout",
     "output_type": "stream",
     "text": [
      "3\n",
      "Title: Efficacy and safety of anatomic resection versus nonanatomic resection in patients with hepatocellular carcinoma: A systemic review and meta-analysis.. Abstract: BACKGROUND: The surgical decision of performing anatomic resection (AR) or nonanatomic resection (NAR) in patients with hepatocellular carcinoma remains controversial. The aim of the current study is to conduct a meta-analysis on published results to compare surgical outcomes after AR and NAR. METHODS: A comprehensive search of the Pubmed, Ovid-Medline, Embase, Cochrane library, and Science Citation indexes was performed. Overall and disease free survival (DFS), perioperative mortality and morbidity were the main outcomes. The meta-analysis was performed using Revman 5.3 statistical software, and the results are expressed as the relative risk (RR) or weighted mean differences with 95% of confidence intervals. RESULTS: After application of the exclusion and inclusion criteria, 25 studies published between 1996~2015 that compared outcomes after AR and NAR in patients with HCC were identified. A total of 10216 patients were included in the meta-analysis, 4576 in the AR group and 5640 in the NAR group. Liver cirrhosis was found in 54.8% (range from 18.8% to 100%) of patients in the AR group and 67.8% (range from 34.3% to 100%) of patients in the NAR group, resulting in a RR of 0.45 (I2 = 18%, fixed model, 95% CI 0.39-0.52; Z = 10.31; P = <0.00001). The meta-analysis revealed a statistically significant 5-year survival (RR of 1.10, 95% CI 1.03-1.17; Z = 2.92, P = 0.004) and DFS (RR: 1.33, 95% CI 1.18-1.51; Z = 4.46, P <0.00001) advantage for patients undergoing AR resection compared to NAR. In regards to safety, no statistical significance was found in mortality and morbidity between the two groups. Eight studies including 1812 patients with small (<5 cm) solitary HCC indicated a better 5-year DFS in the AR group (41.4%) than in the NAR group (28.6%), with a RR of 1.32 (I2 = 42, fixed model, 95%CI: 1.15-1.52, Z = 3.86, P = 0.0001). CONCLUSION: The current study demonstrates better surgical outcomes after AR than NAR in patients with HCC. Therefore, AR is recommended in resectable HCC, especially with small (<5 cm) solitary tumours.\n"
     ]
    },
    {
     "name": "stderr",
     "output_type": "stream",
     "text": [
      "/tmp/ipykernel_2359/668022897.py:29: SettingWithCopyWarning: \n",
      "A value is trying to be set on a copy of a slice from a DataFrame\n",
      "\n",
      "See the caveats in the documentation: https://pandas.pydata.org/pandas-docs/stable/user_guide/indexing.html#returning-a-view-versus-a-copy\n",
      "  data[\"joined_content\"][i] = joined_content\n",
      "/tmp/ipykernel_2359/668022897.py:30: SettingWithCopyWarning: \n",
      "A value is trying to be set on a copy of a slice from a DataFrame\n",
      "\n",
      "See the caveats in the documentation: https://pandas.pydata.org/pandas-docs/stable/user_guide/indexing.html#returning-a-view-versus-a-copy\n",
      "  data[\"Note\"][i] = \"qualified length\"\n"
     ]
    },
    {
     "name": "stdout",
     "output_type": "stream",
     "text": [
      "4\n",
      "Title: Long-term outcomes of liver resection for multiple hepatocellular carcinomas: Single-institution experience with 187 patients.. Abstract: BACKGROUNDS/AIMS: Surgical resection for the treatment of multiple hepatocellular carcinomas (HCCs) is controversial. This study aimed to evaluate the clinical and oncological outcomes after liver resection in patients with multiple HCCs. METHODS: Clinicopathological and survival data of 187 patients who underwent curative resection for multiple HCCs between June 2004 and December 2016 at Asan Medical Center, Seoul, South Korea were retrospectively reviewed. The prognostic factors for recurrence and survival were identified using univariate and multivariate analyses. RESULTS: Of the 187 patients, 153 (81.8%) had two nodules, 23 (12.3%) had three nodules, and 11 (5.9%) had more than three nodules. Multiple tumors were located in the ipsilateral lobe in 163 (87.2%) patients. Anatomical resection, non-anatomical resection, and both types of resections were performed in 81.3%, 8.0%, and 10.7% patients, respectively. Recurrence occurred in 133 (71.1%) patients, and the mean time to recurrence after surgery was 34.2 months. Independent risk factors for tumor recurrence in multivariate analyses were indocyanine green retention rate at 15 min ≥15%, preoperative alpha-fetoprotein level ≥400 ng/ml, and total tumor diameter ≥6 cm. The 1-, 3-, 5-, and 10-year disease-free survival rates were 94.1%, 81.7%, 69.7%, and 39.4%, respectively, and the 1-, 3-, 5-, and 10-year survival rates were 93.5%, 74.2%, 64.9%, and 38.8%, respectively. CONCLUSIONS: Our experience shows that liver resection can be considered a first-line treatment option for selected patients with multiple HCCs who have well-preserved liver function.\n"
     ]
    },
    {
     "name": "stderr",
     "output_type": "stream",
     "text": [
      "/tmp/ipykernel_2359/668022897.py:29: SettingWithCopyWarning: \n",
      "A value is trying to be set on a copy of a slice from a DataFrame\n",
      "\n",
      "See the caveats in the documentation: https://pandas.pydata.org/pandas-docs/stable/user_guide/indexing.html#returning-a-view-versus-a-copy\n",
      "  data[\"joined_content\"][i] = joined_content\n",
      "/tmp/ipykernel_2359/668022897.py:30: SettingWithCopyWarning: \n",
      "A value is trying to be set on a copy of a slice from a DataFrame\n",
      "\n",
      "See the caveats in the documentation: https://pandas.pydata.org/pandas-docs/stable/user_guide/indexing.html#returning-a-view-versus-a-copy\n",
      "  data[\"Note\"][i] = \"qualified length\"\n"
     ]
    },
    {
     "name": "stdout",
     "output_type": "stream",
     "text": [
      "5\n",
      "Title: Transarterial Chemoembolization Combined With Hepatectomy for the Treatment of Intermediate-Stage Hepatocellular Carcinoma.. Abstract: BACKGROUND: Transarterial chemoembolization (TACE) is currently the recommended treatment for intermediate-stage hepatocellular carcinoma (HCC). Liver resection (LR) may be an effective option, although recurrences are not uncommon. TACE prior to LR has been proposed as an even better alternative. METHODS: Patients with intermediate-stage HCC who underwent curative resection were enrolled between January 2007 and December 2015. We compared overall survival (OS) and recurrence-free survival (RFS) for the 2 groups using the Kaplan-Meier method, and we determined independent risk factors for death and recurrence using multivariate regression analyses. RESULTS: A total of 488 patients with HCC at BCLC B (265 patients with LR, 223 patients with TACE+LR) enrolled from our center. Mean follow-up was 40.2 (range, 3.0-128.7) months. For patients receiving TACE+LR and LR, estimated 1-, 3-, and 5-year OS rates were 90.6% and 73.3%, 61.7% and 43.5%, and 52.9% and 33.8%, respectively (all P < 0.001) and estimated 1-, 2-, and 3-year RFS rates were 54.6% and 39.4%, 41.4% and 29.4%, and 36.3% and 26.3%, respectively (P < 0.001, P = 0.002, and P = 0.008, respectively). Significant independent predictors of poor OS were more than 3 (vs. 3 or fewer) tumors (HR=2.19, 95% CI 1.69-2.84), non-anatomical (vs. anatomical) hepatectomy (HR=1.29, 95% CI 1.01-1.66), microscopic vascular invasion (HR=1.46, 95% CI 1.15-.90), cirrhosis (HR=2.41, 95%CI 1.88-3.01), and intraoperative blood transfusion (HR=1.29, 95% CI 1.01-1.66). CONCLUSION: Preoperative TACE with LR may result in better oncological outcomes than either TACE or LR alone, without a substantial increase in morbidity, and could be considered an effective combination treatment for intermediate-stage HCC.\n"
     ]
    },
    {
     "name": "stderr",
     "output_type": "stream",
     "text": [
      "/tmp/ipykernel_2359/668022897.py:29: SettingWithCopyWarning: \n",
      "A value is trying to be set on a copy of a slice from a DataFrame\n",
      "\n",
      "See the caveats in the documentation: https://pandas.pydata.org/pandas-docs/stable/user_guide/indexing.html#returning-a-view-versus-a-copy\n",
      "  data[\"joined_content\"][i] = joined_content\n",
      "/tmp/ipykernel_2359/668022897.py:30: SettingWithCopyWarning: \n",
      "A value is trying to be set on a copy of a slice from a DataFrame\n",
      "\n",
      "See the caveats in the documentation: https://pandas.pydata.org/pandas-docs/stable/user_guide/indexing.html#returning-a-view-versus-a-copy\n",
      "  data[\"Note\"][i] = \"qualified length\"\n"
     ]
    },
    {
     "name": "stdout",
     "output_type": "stream",
     "text": [
      "6\n",
      "Title: Prognostic grade for resecting hepatocellular carcinoma: multicentre retrospective study.. Abstract: BACKGROUND: Surgical treatment for hepatocellular carcinoma (HCC) is advancing, but a robust prediction model for survival after resection is not available. The aim of this study was to propose a prognostic grading system for resection of HCC. METHODS: This was a retrospective, multicentre study of patients who underwent first resection of HCC with curative intent between 2000 and 2007. Patients were divided randomly by a cross-validation method into training and validation sets. Prognostic factors were identified using a Cox proportional hazards model. The predictive model was built by decision-tree analysis to define the resection grades, and subsequently validated. RESULTS: A total of 16 931 patients from 795 hospitals were included. In the training set (8465 patients), four surgical grades were classified based on prognosis: grade A1 (1236 patients, 14.6 per cent; single tumour 3 cm or smaller and anatomical R0 resection); grade A2 (3614, 42.7 per cent; single tumour larger than 3 cm, or non-anatomical R0 resection); grade B (2277, 26.9 per cent; multiple tumours, or vascular invasion, and R0 resection); and grade C (1338, 15.8 per cent; multiple tumours with vascular invasion and R0 resection, or R1 resection). Five-year survival rates were 73.9 per cent (hazard ratio (HR) 1.00), 64.7 per cent (HR 1.51, 95 per cent c.i. 1.29 to 1.78), 50.6 per cent (HR 2.53, 2.15 to 2.98), and 34.8 per cent (HR 4.60, 3.90 to 5.42) for grades A1, A2, B, and C respectively. In the validation set (8466 patients), the grades had equivalent reproducibility for both overall and recurrence-free survival (all P < 0.001). CONCLUSION: This grade is used to predict prognosis of patients undergoing resection of HCC.\n"
     ]
    },
    {
     "name": "stderr",
     "output_type": "stream",
     "text": [
      "/tmp/ipykernel_2359/668022897.py:29: SettingWithCopyWarning: \n",
      "A value is trying to be set on a copy of a slice from a DataFrame\n",
      "\n",
      "See the caveats in the documentation: https://pandas.pydata.org/pandas-docs/stable/user_guide/indexing.html#returning-a-view-versus-a-copy\n",
      "  data[\"joined_content\"][i] = joined_content\n",
      "/tmp/ipykernel_2359/668022897.py:30: SettingWithCopyWarning: \n",
      "A value is trying to be set on a copy of a slice from a DataFrame\n",
      "\n",
      "See the caveats in the documentation: https://pandas.pydata.org/pandas-docs/stable/user_guide/indexing.html#returning-a-view-versus-a-copy\n",
      "  data[\"Note\"][i] = \"qualified length\"\n"
     ]
    },
    {
     "name": "stdout",
     "output_type": "stream",
     "text": [
      "7\n",
      "Title: Anatomical versus Non-anatomical Resection for Hepatocellular Carcinoma with Microscope Vascular Invasion: A Propensity Score Matching Analysis.. Abstract: Background: The benefits of anatomical resection (AR) and non-anatomical resection (NAR) on hepatocellular carcinoma (HCC) patients with microscope vascular invasion (MVI) remain unknown. We aimed to investigate the prognostic outcomes of AR and NAR for HCC patients with MVI. Study Design: A total of 362 consecutive HCC patients diagnosed with MVI after hepatic resection between February 2005 and December 2013 were included in this study. The patient outcomes were compared, and a 1:2 propensity score matching (PSM) analysis was applied to eliminate selection bias. Results: Before PSM, compared to the NAR group, the AR group contained more patients that exceeded the Milan criteria, with larger, unilobar tumors and higher AST levels. After PSM, 100 patients were classified into the propensity-matched AR group (PS-AR), while 170 were classified into the propensity-matched NAR group (PS-NAR). Baseline data, including liver function and tumor burden measurements, were similar in the matched groups. The respective 1-, 3- and 5-year overall survival (OS) rates were 78.9%, 56.9%, and 51.5% in the PS-AR group and 76.2%, 53.0%, and 42.4% in the PS-NAR group (P = 0.301). The 1-, 3- and 5-year disease-free survival (DFS) rates were 51.1%, 44.7% and 42.0% in the PS-AR group and 44.9%, 34.3% and 26.4% in the PS-NAR group, respectively (P = 0.039). Multivariate analysis identified AR (P=0.025) as an independent favorable prognostic factor for DFS in HCC patients with MVI. Conclusions: Anatomical resection was superior to non-anatomical resection for improving DFS in hepatocellular carcinoma patients with microscope vascular invasion.\n"
     ]
    },
    {
     "name": "stderr",
     "output_type": "stream",
     "text": [
      "/tmp/ipykernel_2359/668022897.py:29: SettingWithCopyWarning: \n",
      "A value is trying to be set on a copy of a slice from a DataFrame\n",
      "\n",
      "See the caveats in the documentation: https://pandas.pydata.org/pandas-docs/stable/user_guide/indexing.html#returning-a-view-versus-a-copy\n",
      "  data[\"joined_content\"][i] = joined_content\n",
      "/tmp/ipykernel_2359/668022897.py:30: SettingWithCopyWarning: \n",
      "A value is trying to be set on a copy of a slice from a DataFrame\n",
      "\n",
      "See the caveats in the documentation: https://pandas.pydata.org/pandas-docs/stable/user_guide/indexing.html#returning-a-view-versus-a-copy\n",
      "  data[\"Note\"][i] = \"qualified length\"\n"
     ]
    },
    {
     "name": "stdout",
     "output_type": "stream",
     "text": [
      "8\n",
      "Title: Prognostic value of precise hepatic pedicle dissection in anatomical resection for patients with hepatocellular carcinoma.. Abstract: The present study aimed to investigate the long-term and perioperative outcomes of precise hepatic pedicle dissection in anatomical resection (precise AR) vs non-anatomical resection (NAR) for hepatocellular carcinoma (HCC) patients.Data from a total of 270 consecutive HCC patients who underwent curative hepatectomy were retrospectively collected. Propensity score matching (PSM) analysis was performed. The long-term outcomes of precise AR and NAR were analyzed using the Kaplan-Meier method and the Cox proportional hazards model.The 1-, 3-, and 5-year overall survival (OS) rates were 90.3%, 76.2%, and 65.7% in the PS-precise AR group, respectively (n = 103); and 88.3%, 70.5%, and 52.0% in the PS-NAR group, respectively (n = 103) (P = .043). The 1-, 3-, and 5-year recurrence-free survival (RFS) rates were 83.4%, 63.2%, and 46.0% in the PS-precise AR group, respectively; and 75.7%, 47.4%, and 28.3% in the PS-NAR group, respectively (P = .002). Multivariate analysis showed that ICG-R15, BCLC staging, and microvascular invasion (MVI) were independent risk factors for OS; while tumor size, types of resection, surgical margin, and MVI were independent risk factors for RFS. Subgroup analysis indicated that the RFS rate was significantly better in the PS-precise AR group than in the PS-NAR group for patients with MVI and tumor size ≤5 cm.After PSM, precise hepatic pedicle dissection in AR significantly improved the recurrence-free survival rate of solitary HCC patients compared with NAR, especially in those with MVI and tumor size ≤5 cm.\n"
     ]
    },
    {
     "name": "stderr",
     "output_type": "stream",
     "text": [
      "/tmp/ipykernel_2359/668022897.py:29: SettingWithCopyWarning: \n",
      "A value is trying to be set on a copy of a slice from a DataFrame\n",
      "\n",
      "See the caveats in the documentation: https://pandas.pydata.org/pandas-docs/stable/user_guide/indexing.html#returning-a-view-versus-a-copy\n",
      "  data[\"joined_content\"][i] = joined_content\n",
      "/tmp/ipykernel_2359/668022897.py:30: SettingWithCopyWarning: \n",
      "A value is trying to be set on a copy of a slice from a DataFrame\n",
      "\n",
      "See the caveats in the documentation: https://pandas.pydata.org/pandas-docs/stable/user_guide/indexing.html#returning-a-view-versus-a-copy\n",
      "  data[\"Note\"][i] = \"qualified length\"\n"
     ]
    },
    {
     "name": "stdout",
     "output_type": "stream",
     "text": [
      "9\n",
      "Title: Anatomical versus non-anatomical resection for solitary hepatocellular carcinoma without macroscopic vascular invasion: A propensity score matching analysis.. Abstract: BACKGROUND AND AIM: The superiority of anatomical resection (AR) in patients with hepatocellular carcinoma compared with non-anatomical resection (NAR) remains controversial. We aimed to investigate the prognostic outcomes of AR and NAR for solitary hepatocellular carcinoma (HCC) patients without macroscopic vascular invasion, using a propensity score matching (PSM) analysis. METHODS: A total of 305 consecutive HCC patients without macroscopic vascular invasion who underwent curative hepatectomy were included in our study. PSM was performed in order to eliminate possible selection bias. RESULTS: By PSM, the patients were divided into propensity-matched anatomical resection (PS-AR) (n = 114) and propensity-matched non-anatomical resection (PS-NAR) (n = 114) groups. The 1-year, 3-year, and 5-year overall survival rates were 90.4%, 77.7%, and 65.7% in PS-AR and 88.6%, 70.7%, and 52.2% in PS-NAR (P = 0.053), respectively. The 1-year, 3-year, and 5-year recurrence-free survival (RFS) rates were 84.1%, 64.9%, and 45.1% in PS-AR and 75.4%, 48.1%, and 31.0% in PS-NAR (P = 0.005), respectively. Multivariate analysis showed that ICG-R15 (P = 0.022); the Barcelona clinic liver cancer staging (P = 0.044) and microvascular invasion (MVI; P = 0.005) were independent risk factors for the overall survival rate, while type of resection (P = 0.027), surgical margin (P = 0.039), and MVI (P = 0.024) were independent risk factors for the RFS rate. Patients who underwent NAR were prone to early recurrence and marginal recurrence. Subgroup analysis indicated that the RFS rate was significantly better in PS-AR than that in PS-NAR (surgical margin ≥ 1 cm) (P = 0.025). Better RFS rate was observed in PS-AR with MVI compared with PS-NAR (P = 0.016). CONCLUSIONS: Anatomical resection contributed to improve the RFS rate in solitary HCC patients without macroscopic vascular invasion using PSM analysis, especially in patients with MVI.\n"
     ]
    },
    {
     "name": "stderr",
     "output_type": "stream",
     "text": [
      "/tmp/ipykernel_2359/668022897.py:29: SettingWithCopyWarning: \n",
      "A value is trying to be set on a copy of a slice from a DataFrame\n",
      "\n",
      "See the caveats in the documentation: https://pandas.pydata.org/pandas-docs/stable/user_guide/indexing.html#returning-a-view-versus-a-copy\n",
      "  data[\"joined_content\"][i] = joined_content\n",
      "/tmp/ipykernel_2359/668022897.py:30: SettingWithCopyWarning: \n",
      "A value is trying to be set on a copy of a slice from a DataFrame\n",
      "\n",
      "See the caveats in the documentation: https://pandas.pydata.org/pandas-docs/stable/user_guide/indexing.html#returning-a-view-versus-a-copy\n",
      "  data[\"Note\"][i] = \"qualified length\"\n"
     ]
    },
    {
     "name": "stdout",
     "output_type": "stream",
     "text": [
      "10\n",
      "Title: Is It Just a Matter of Surgical Extension to Achieve the Cure of Hepatocarcinoma? A Meta-Analysis of Propensity-Matched and Randomized Studies for Anatomic Versus Parenchyma-Sparing Liver Resection.. Abstract: BACKGROUND: The benefit of anatomic (AR) versus parenchyma-sparing resection (PSR) in hepatocarcinoma (HCC) is still debated. The aim of the study was to compare AR vs. PSR in terms of overall survival (OS) and disease-free survival (DFS). METHODS: A systematic review was conducted using Medline and Google Scholar. To reduce intra- and inter-study heterogeneity, only propensity-matched studies and randomized clinical trials (RCT) were evaluated and a generic inverse variance meta-analysis was run. A sub-analysis was performed in case of tumor microvascular invasion (MVI). RESULTS: Eleven propensity-matched and one RCT were evaluated, with a total of 3445 patients (AR = 1776 and PSR = 1669). Tumor burden and liver function were comparable among studies (I(2) < 50%, p > 0.5). OS was similar between AR and PSR (HR 0.93; 95%CI, 0.75-1.15; p = 0.50, I(2) = 41%). DFS was improved in AR at 1 year (RR 0.84; 95%CI, 0.72-0.97; p = 0.02; I(2) = 36%) and 3 years (RR 0.90; 95%CI, 0.83-0.98; p = 0.02; I(2) = 40%) but not at 5 years (RR 0.94; 95%CI, 0.87-1.01; p = 0.07; I(2) = 41%). Furthermore, in the presence of MVI, no difference in OS and DFS was observed between AR and PSR. CONCLUSION: When liver function and tumor burden are comparable, AR and PSR achieved similar overall survival. AR improved local control in the early period after surgery. Furthermore, in the presence of MVI, the extension of surgery was not associated with better OS and DFS.\n"
     ]
    },
    {
     "name": "stderr",
     "output_type": "stream",
     "text": [
      "/tmp/ipykernel_2359/668022897.py:29: SettingWithCopyWarning: \n",
      "A value is trying to be set on a copy of a slice from a DataFrame\n",
      "\n",
      "See the caveats in the documentation: https://pandas.pydata.org/pandas-docs/stable/user_guide/indexing.html#returning-a-view-versus-a-copy\n",
      "  data[\"joined_content\"][i] = joined_content\n",
      "/tmp/ipykernel_2359/668022897.py:30: SettingWithCopyWarning: \n",
      "A value is trying to be set on a copy of a slice from a DataFrame\n",
      "\n",
      "See the caveats in the documentation: https://pandas.pydata.org/pandas-docs/stable/user_guide/indexing.html#returning-a-view-versus-a-copy\n",
      "  data[\"Note\"][i] = \"qualified length\"\n"
     ]
    },
    {
     "name": "stdout",
     "output_type": "stream",
     "text": [
      "11\n",
      "Title: Clinical factors that affect the outcomes after anatomical versus non-anatomical resection for hepatocellular carcinoma.. Abstract: PURPOSE: For hepatocellular carcinoma (HCC), the superiority of anatomical resection (AR) over non-anatomical resection (NR) is still controversial. In this study, we assessed the potential benefits of AR for HCC. METHODS: We enrolled 173 consecutive patients with HCC who underwent hepatectomy in our hospital from August 2003 to May 2013 and compared the outcomes for the AR group (n = 125) with those for the NR group (n = 48). RESULTS: The median observational period was 790 days. The 1- and 2-year overall survival (OS) rates were 92.1 and 85.8 %, respectively; the 1- and 2-year disease-free survival (DFS) rates were 78.2 and 63.0 %, respectively. The AR and NR groups did not significantly differ in the OS or DFS. However, the 2-year DFS was significantly better for the AR group than the NR group among HCV patients (68.2 vs. 32.2 %; P = 0.004) and patients with alpha-fetoprotein (AFP) within the normal range (<20 ng/ml; 76.7 vs. 60.9 %; P = 0.031), total bilirubin <0.8 mg/dl (70.8 vs. 47.0 %; P = 0.034), and tumors 2-5 cm in diameter (82.0 vs. 62.5 %; P = 0.025). CONCLUSIONS: If a patient is HCV-negative, has low AFP, low total bilirubin, or a tumor diameter of 2-5 cm, AR is recommended.\n"
     ]
    },
    {
     "name": "stderr",
     "output_type": "stream",
     "text": [
      "/tmp/ipykernel_2359/668022897.py:29: SettingWithCopyWarning: \n",
      "A value is trying to be set on a copy of a slice from a DataFrame\n",
      "\n",
      "See the caveats in the documentation: https://pandas.pydata.org/pandas-docs/stable/user_guide/indexing.html#returning-a-view-versus-a-copy\n",
      "  data[\"joined_content\"][i] = joined_content\n",
      "/tmp/ipykernel_2359/668022897.py:30: SettingWithCopyWarning: \n",
      "A value is trying to be set on a copy of a slice from a DataFrame\n",
      "\n",
      "See the caveats in the documentation: https://pandas.pydata.org/pandas-docs/stable/user_guide/indexing.html#returning-a-view-versus-a-copy\n",
      "  data[\"Note\"][i] = \"qualified length\"\n"
     ]
    },
    {
     "name": "stdout",
     "output_type": "stream",
     "text": [
      "12\n",
      "Title: Prognostic factors for survival after hepatic resection of early hepatocellular carcinoma in HBV-related cirrhotic patients.. Abstract: OBJECTIVE: The study aimed to identify clinico-pathologic factors that predict survival in early hepatocellular carcinoma (HCC) patients with hepatitis B virus (HBV)-related cirrhosis undergoing liver resection. METHODS: A population-based cohort was investigated to identify cirrhotic patients with confirmed early HCC (tumor size≤5cm and absence of nodal involvement, metastases, or major vascular invasion) after hepatic resection at the Eastern Hepatobiliary Surgery Hospital (Shanghai, China) from April 2005 and November 2010 using the Surveillance, Epidemiology, and End Results (SEER) database. These patients were studied retrospectively in terms of their clinical characteristics and prognostic factors. Predictors for survival were evaluated using Kaplan-Meier methods and Cox proportional hazards models. Besides, a simple prognostic scoring system was proposed to stratify these patients. RESULTS: Of 537 (2.6% of all HCC patients in this period) cirrhotic patients with early HCC identified who had underwent liver resection, 87% were male. Median tumor size was 2.9cm, and 67% of patients had tumors>2cm. Following hepatic resection, overall median and 5-year survival were 75 months and 58%, respectively. Tumor size>2cm (hazard ratio [HR]=1.56), multifocality (HR=1.34), non-anatomic resection (HR=1.44) and vascular invasion (HR=2.03) were associated with worse prognosis (P<0.05). Moreover, these patients could be further stratified into 4 distinct prognostic groups based on the prognostic scoring system developed. CONCLUSION: Tumor size>2cm, multifocality, non-anatomic resection and vascular invasion may be used to stratify HBV-related cirrhotic patients with early HCC after resection. Besides, these data also indicate that pathologic staging is important even in small HCC.\n"
     ]
    },
    {
     "name": "stderr",
     "output_type": "stream",
     "text": [
      "/tmp/ipykernel_2359/668022897.py:29: SettingWithCopyWarning: \n",
      "A value is trying to be set on a copy of a slice from a DataFrame\n",
      "\n",
      "See the caveats in the documentation: https://pandas.pydata.org/pandas-docs/stable/user_guide/indexing.html#returning-a-view-versus-a-copy\n",
      "  data[\"joined_content\"][i] = joined_content\n",
      "/tmp/ipykernel_2359/668022897.py:30: SettingWithCopyWarning: \n",
      "A value is trying to be set on a copy of a slice from a DataFrame\n",
      "\n",
      "See the caveats in the documentation: https://pandas.pydata.org/pandas-docs/stable/user_guide/indexing.html#returning-a-view-versus-a-copy\n",
      "  data[\"Note\"][i] = \"qualified length\"\n"
     ]
    },
    {
     "name": "stdout",
     "output_type": "stream",
     "text": [
      "13\n",
      "Title: Parenchymal Sparing Laparoscopic Segmentectomy III and IV with Indocyanine Green Fluorescence Negative Stain Method Using Glisson Pedicle Approach.. Abstract: BACKGROUND: To minimize the loss of functional liver volume in cases of severe cirrhosis and repeat hepatectomy for recurrence of hepatocellular carcinoma (HCC), anatomical hepatectomy is gradually extended from major to minor hepatectomy (Miyama et al. in Cancers (Basel):13, 2021; Ishizawa et al. in Ann Surg 256:959-964, 2012). For local located HCC, (sub)segmentectomy can yet be regarded as a choice instead of hemihepatectomy. Indocyanine green (ICG) has been used for tumor location, navigation of resected margin and liver segment, and identification of bile leakage. Negative stain that ICG dye was administered intravenously after occluding the target portal pedicle is more applicable to sectionectomy or hemihepatectomy, especially in cases where multiple target pedicles exist or portal vein puncture is difficult to carry out to achieve anatomic resection. Herein, we present a video of laparoscopic segmentectomy III and IV with ICG fluorescence negative stain using Glisson Pedicle approach. METHOD: A 49-year-old woman with hepatitis B related cirrhosis for 2 years was referred for treatment of a single nodule in segment IV invading the umbilical portion of left portal vein. The preoperative alpha-fetoprotein (AFP) was 442 ng/ml and protein induced by vitamin K absence or antagonist-II (PIVKA-II) was 122 mAu/ml. Liver function was Child-Pugh A and indocyanine green retention test at 15 min (ICG-R15) was 9.2%. The surgical procedure involved the following steps: (1) Extrahepatic Glisson pedicle dissection based on Laennec's s capsule (Sugioka et al. in J Hepatobiliary Pancreat Sci 24:17-23, 2017) was performed for isolation of the pedicles towards segments III and IV in the umbilical fossa. (2) Demarcation line was revealed and ICG (1 ml, 5 mg/l) was administered intravenously for the negative stain after dividing the target pedicles. (3) Parenchyma transection was performed along the border of the negative staining area in the cranial and caudal direction. RESULTS: Operative time was 220 min and blood loss was 150 ml with no transfusion. HCC sized 2.5 cm*1.7 cm*1.2 cm was confirmed in histopathology with a free margin and no microvascular invasion. The fibrosis of the liver parenchyma was S4 based on Ishak system. The patient was discharged on the postoperative day 6 without any complications. No recurrence in residual liver was noted on the CT scan at 9 months during follow-up. CONCLUSION: Laparoscopic segmentectomy III and IV is an effective procedure for HCC especially in cases with demands of hepatic parenchymal preservation. ICG navigation and Glisson Pedicle approach may be particularly helpful.\n"
     ]
    },
    {
     "name": "stderr",
     "output_type": "stream",
     "text": [
      "/tmp/ipykernel_2359/668022897.py:29: SettingWithCopyWarning: \n",
      "A value is trying to be set on a copy of a slice from a DataFrame\n",
      "\n",
      "See the caveats in the documentation: https://pandas.pydata.org/pandas-docs/stable/user_guide/indexing.html#returning-a-view-versus-a-copy\n",
      "  data[\"joined_content\"][i] = joined_content\n",
      "/tmp/ipykernel_2359/668022897.py:30: SettingWithCopyWarning: \n",
      "A value is trying to be set on a copy of a slice from a DataFrame\n",
      "\n",
      "See the caveats in the documentation: https://pandas.pydata.org/pandas-docs/stable/user_guide/indexing.html#returning-a-view-versus-a-copy\n",
      "  data[\"Note\"][i] = \"qualified length\"\n"
     ]
    },
    {
     "name": "stdout",
     "output_type": "stream",
     "text": [
      "14\n",
      "Title: Laparoscopic resection of hepatocellular carcinoma. Considerations on lesions in the posterosuperior segments of the liver.. Abstract: AIM: The aim of this study was to evaluate retrospectively our results for laparoscopic liver resection (LLR) of hepatocellular carcinoma (HCC) including lesions in the posterosuperior segments of the liver in terms of feasibility, outcome, recurrence and survival. MATERIAL OF STUDY: Between June 2005 and May 2009, we performed 22 LLR for HCC. The underlying cirrhosis was staged as Child A in 19 cases and Child B in 3. RESULTS: LLR included a non anatomic resection in 15 cases and an anatomic resection in 7. A conversion to laparotomy occurred in one (4.5%) patient for hemorrhage. Mortality and morbidity rates were 0% and 18.1% (4/20). Over a mean follow-up period of 29 months (range: 19-65 months), 11 (50%) patients presented recurrence, mainly at distance from the surgical site. DISCUSSION: A laparoscopic approach is more suitable when the lesion is located in the peripheral \"laparoscopic\" segments 2 to 6. Nevertheless, six resections were made in the posterosuperior segments. Although parenchymal-sparing resection is required by the presence of underlying liver disease, anatomic resection has always to be considered and pursued to reduce local recurrence. In our series the recurrence rate was similar to those reported for other laparoscopic studies and for open resection of HCC. CONCLUSIONS: LLR for HCC in selected patients is a safe procedure with good short-term results. It can also be proposed in tumor locations with a difficult surgical access maintaining a low morbidity rate and good oncologic adequacy. This approach could have an impact on the therapeutic strategy of HCC complicating cirrhosis as a treatment with curative intent or as a bridge to liver transplantation.\n"
     ]
    },
    {
     "name": "stderr",
     "output_type": "stream",
     "text": [
      "/tmp/ipykernel_2359/668022897.py:29: SettingWithCopyWarning: \n",
      "A value is trying to be set on a copy of a slice from a DataFrame\n",
      "\n",
      "See the caveats in the documentation: https://pandas.pydata.org/pandas-docs/stable/user_guide/indexing.html#returning-a-view-versus-a-copy\n",
      "  data[\"joined_content\"][i] = joined_content\n",
      "/tmp/ipykernel_2359/668022897.py:30: SettingWithCopyWarning: \n",
      "A value is trying to be set on a copy of a slice from a DataFrame\n",
      "\n",
      "See the caveats in the documentation: https://pandas.pydata.org/pandas-docs/stable/user_guide/indexing.html#returning-a-view-versus-a-copy\n",
      "  data[\"Note\"][i] = \"qualified length\"\n"
     ]
    },
    {
     "name": "stdout",
     "output_type": "stream",
     "text": [
      "15\n",
      "Title: Anatomical versus nonanatomical resection in patients with hepatocellular carcinoma located in the left lateral segment.. Abstract: To date, no reported studies comparing anatomical resection (AR) and nonanatomical resection (NAR) for hepatocellular carcinoma (HCC) have restricted cases by tumor location. Thus, right hepatectomy and left lateral sectionectomy are both analyzed together as AR, whereas limited resection of both peripherally and centrally located liver tumors is categorized as NAR. This categorization may result in inaccurate conclusions in the analyses comparing AR and NAR. We conducted a retrospective comparison between AR (n = 30) and NAR (n = 57) for solitary and small (5 cm or less) HCC limited to the left lateral segment (LLS) to clarify whether AR is superior to NAR for HCC in LLS. The 1-, 3-, and 5-year recurrence-free survival rates were 83.3, 71.3, and 52.9 per cent for the AR group and 82.5, 51.0, and 40.7 per cent for the NAR group, respectively (P = 0.10). The 3-, 5-, and 7-year overall survival rates were 96.0, 82.8, and 77.9 per cent for the AR group and 84.1, 77.0, and 54.2 per cent for the NAR group, respectively (P = 0.07). The postoperative complication, recurrence patterns, and secondary treatment types after recurrence were not significantly different between the two groups. The multivariate analysis including the confounders related to background liver function indicated AR to be a significant protective factor against recurrence, although AR did not influence overall survival. AR was superior to NAR in preventing recurrence without increasing postoperative risks among patients with small solitary HCC limited to the LLS, although AR could not improve overall survival.\n"
     ]
    },
    {
     "name": "stderr",
     "output_type": "stream",
     "text": [
      "/tmp/ipykernel_2359/668022897.py:29: SettingWithCopyWarning: \n",
      "A value is trying to be set on a copy of a slice from a DataFrame\n",
      "\n",
      "See the caveats in the documentation: https://pandas.pydata.org/pandas-docs/stable/user_guide/indexing.html#returning-a-view-versus-a-copy\n",
      "  data[\"joined_content\"][i] = joined_content\n",
      "/tmp/ipykernel_2359/668022897.py:30: SettingWithCopyWarning: \n",
      "A value is trying to be set on a copy of a slice from a DataFrame\n",
      "\n",
      "See the caveats in the documentation: https://pandas.pydata.org/pandas-docs/stable/user_guide/indexing.html#returning-a-view-versus-a-copy\n",
      "  data[\"Note\"][i] = \"qualified length\"\n"
     ]
    },
    {
     "name": "stdout",
     "output_type": "stream",
     "text": [
      "16\n",
      "Title: Effect of Surgical Margin Width on Patterns of Recurrence among Patients Undergoing R0 Hepatectomy for T1 Hepatocellular Carcinoma: An International Multi-Institutional Analysis.. Abstract: INTRODUCTION: Although a positive surgical margin is a known prognostic factor for recurrence, the optimal surgical margin width in the context of an R0 resection for early-stage hepatocellular carcinoma (HCC) is still debated. The aim of the current study was to examine the impact of wide (> 1 cm) versus narrow (< 1 cm) surgical margin status on the incidence and recurrence patterns among patients with T1 HCC undergoing an R0 hepatectomy. METHODS: Between 1998 and 2017, patients with T1 HCC who underwent R0 hepatectomy for stage T1 HCC were identified using an international multi-institutional database. Recurrence-free survival (RFS) was estimated, and recurrence patterns were examined based on whether patients had a wide versus narrow resection margins. RESULTS: Among 404 patients, median patient age was 66 years (IQR: 58-73). Most patients (n = 326, 80.7%) had surgical margin < 1 cm, while 78 (19.3%) patients had a > 1 cm margin. The majority of patients had early recurrences (< 24 months) in both margin width groups (< 1 cm: 70.3% vs > 1 cm: 85.7%, p = 0.141); recurrence site was mostly intrahepatic (< 1 cm: 77% vs > 1 cm: 61.9%, p = 0.169). The 1-, 3-, and 5-year RFS among patients with margin < 1 cm were 77%, 48.9%, and 35.3% versus 81.7%, 65.8%, and 60.7% for patients with margin > 1 cm, respectively (p = 0.02). Among patients undergoing anatomic resection, resection margin did not impact RFS (3-year RFS: < 1 cm: 49.2% vs > 1 cm: 58.9%, p = 0.169), whereas in the non-anatomic resection group, margin width > 1 cm was associated with a better 3-year RFS compared to margin < 1 cm (86.7% vs 47.3%, p = 0.017). On multivariable analysis, margin > 1 cm remained protective against recurrence (HR = 0.50, 95%CI 0.28-0.89), whereas Child-Pugh B (HR = 2.13, 95%CI 1.09-4.15), AFP > 20 ng/mL (HR = 1.71, 95%CI 1.18-2.48), and presence of microscopic lymphovascular invasion (HR = 1.48, 95%CI 1.01-2.18) were associated with a higher hazard of recurrence. CONCLUSION: Resection margins > 1 cm predicted better RFS among patients undergoing R0 hepatectomy for T1 HCC, especially small (< 5 cm) HCC. Although resection margin width did not influence outcomes after anatomic resection, wider margins were more important among patients undergoing non-anatomic liver resections.\n"
     ]
    },
    {
     "name": "stderr",
     "output_type": "stream",
     "text": [
      "/tmp/ipykernel_2359/668022897.py:29: SettingWithCopyWarning: \n",
      "A value is trying to be set on a copy of a slice from a DataFrame\n",
      "\n",
      "See the caveats in the documentation: https://pandas.pydata.org/pandas-docs/stable/user_guide/indexing.html#returning-a-view-versus-a-copy\n",
      "  data[\"joined_content\"][i] = joined_content\n",
      "/tmp/ipykernel_2359/668022897.py:30: SettingWithCopyWarning: \n",
      "A value is trying to be set on a copy of a slice from a DataFrame\n",
      "\n",
      "See the caveats in the documentation: https://pandas.pydata.org/pandas-docs/stable/user_guide/indexing.html#returning-a-view-versus-a-copy\n",
      "  data[\"Note\"][i] = \"qualified length\"\n"
     ]
    },
    {
     "name": "stdout",
     "output_type": "stream",
     "text": [
      "17\n",
      "Title: Obesity and recurrence-free survival in patients with hepatocellular carcinoma after achieving sustained virological response to interferon therapy for chronic hepatitis C.. Abstract: AIM: Some patients who achieve a sustained virological response (SVR) to interferon (IFN) treatment for chronic hepatitis C prior to hepatic resection for hepatocellular carcinoma (HCC) experience postoperative recurrence. This study investigated the relationship between obesity and postoperative HCC recurrence in SVR patients. METHODS: Fifty-nine patients who had achieved SVR before hepatic resection were evaluated. Patients had a solitary tumor ≤5 cm in diameter or ≤3 lesions each ≤3 cm in size with no macroscopic vascular invasion (Milan criteria). Patient characteristics potentially associated with recurrence risk were investigated. RESULTS: Three-, 5-, and 7-year recurrence-free survival after surgery were 65%, 44%, and 41%, respectively. Univariate analysis showed that obesity (P < .01), hypertension (P = .038), and non-anatomical resection (P = .022) were significantly associated with a lower recurrence-free survival rate. In a multivariate analysis, obesity (hazard ratio, 2.8; 95% confidence interval [CI] 1.3-6.1; P < .01) and non-anatomical resection (hazard ratio, 2.7; 95% CI 1.1-6.2; P = .025) were independently associated with postoperative recurrence. Three-, 5-, and 7-year overall survival rates after surgery were 100%, 80%, and 64% in obese patients and 100%, 92%, and 82% in non-obese patients, respectively (P = .014). However, other variables showed no significant difference in the overall survival rate. CONCLUSIONS: Obesity and non-anatomical resection were independent risk factors for HCC recurrence after hepatic resection and successful IFN therapy. Obesity is an important clinical problem to consider to improve postoperative outcomes in such patients.\n"
     ]
    },
    {
     "name": "stderr",
     "output_type": "stream",
     "text": [
      "/tmp/ipykernel_2359/668022897.py:29: SettingWithCopyWarning: \n",
      "A value is trying to be set on a copy of a slice from a DataFrame\n",
      "\n",
      "See the caveats in the documentation: https://pandas.pydata.org/pandas-docs/stable/user_guide/indexing.html#returning-a-view-versus-a-copy\n",
      "  data[\"joined_content\"][i] = joined_content\n",
      "/tmp/ipykernel_2359/668022897.py:30: SettingWithCopyWarning: \n",
      "A value is trying to be set on a copy of a slice from a DataFrame\n",
      "\n",
      "See the caveats in the documentation: https://pandas.pydata.org/pandas-docs/stable/user_guide/indexing.html#returning-a-view-versus-a-copy\n",
      "  data[\"Note\"][i] = \"qualified length\"\n"
     ]
    },
    {
     "name": "stdout",
     "output_type": "stream",
     "text": [
      "18\n",
      "Title: Indications and results of resection for hepatocellular carcinoma.. Abstract: AIM: In this retrospective series we evaluate our experience in surgical treatment of HCC and examine early and long-term results of 46 hepatic resections. METHODS: Eighty-eight patients with HCC have been observed at our Department. Fifty patients (57%) have been operated, but only 46 (92%) could be resected; 43 patients (93.5%) carried liver cirrhosis. We performed 28 non-anatomical resections (60.8%) and 18 anatomical resections (39.2%). Tumour clearance at resection margin of at least 1cm was considered for a curative resections. RESULTS: Overall mortality and morbidity were 8.7 and 30.4% respectively. These rates significantly decreased in the last years: from 1995 to 2000 no hospital mortality has been recorded. Hospital mortality among non-anatomical and anatomical resection subgroups was 3.5 and 16.6% respectively (P<0.02). After a median f.u. of 41 months, 19 patients (45.2%) had recurrences: it was intrahepatic in 16 (84.4%). We observed a 3-, 5- and 10-years actuarial survival rate 62, 51.1 and 22.5% respectively. Long term survival significantly differed between non-anatomical and anatomical resections, with 5-year and 10-year values of 61.1 and 34.3% vs 37.7 and 18.8% respectively (P=0.0224). CONCLUSIONS: Early results after hepatic resection for HCC can be improved by using a limited surgical approach. Long-term results are still unsatisfactory, because of the high recurrence rate that is not influenced by different surgical approaches.\n"
     ]
    },
    {
     "name": "stderr",
     "output_type": "stream",
     "text": [
      "/tmp/ipykernel_2359/668022897.py:29: SettingWithCopyWarning: \n",
      "A value is trying to be set on a copy of a slice from a DataFrame\n",
      "\n",
      "See the caveats in the documentation: https://pandas.pydata.org/pandas-docs/stable/user_guide/indexing.html#returning-a-view-versus-a-copy\n",
      "  data[\"joined_content\"][i] = joined_content\n",
      "/tmp/ipykernel_2359/668022897.py:30: SettingWithCopyWarning: \n",
      "A value is trying to be set on a copy of a slice from a DataFrame\n",
      "\n",
      "See the caveats in the documentation: https://pandas.pydata.org/pandas-docs/stable/user_guide/indexing.html#returning-a-view-versus-a-copy\n",
      "  data[\"Note\"][i] = \"qualified length\"\n"
     ]
    },
    {
     "name": "stdout",
     "output_type": "stream",
     "text": [
      "19\n",
      "Title: Robotic hepatectomy: initial experience of a single institution in Singapore.. Abstract: INTRODUCTION: In this study, we report our initial experience with robotic hepatectomy. METHODS: Consecutive patients who underwent robotic hepatectomy at Singapore General Hospital, Singapore, from February 2013 to February 2015 were enrolled in this study. The difficulty level of operations was graded using a novel scoring system for laparoscopic hepatectomies. RESULTS: During the two-year period, five consecutive robotic hepatectomies were performed (one left lateral sectionectomy, one non-anatomical segment II/III resection, one anatomical segment V resection with cholecystectomy, one extended right posterior sectionectomy and one non-anatomical segment V/VI resection). Two hepatectomies were performed for suspected hepatocellular carcinoma, two for solitary liver metastases and one for a large symptomatic haemangioma. The median age of the patients was 53 (range 38-66) years and the median tumour size was 2.5 (range 2.1-7.3) cm. The median total operation time was 340 (range 155-825) minutes and the median volume of blood loss was 300 (range 50-1,200) mL. There were no open conversions and no mortalities or major morbidities (> Clavien-Dindo Grade II). The difficulty level of the operations was graded as low in one case (Score 2), intermediate in three cases (Score 5, 6 and 6) and high in one case (Score 10). There was one minor morbidity, where the patient experienced Grade A bile leakage, which resolved spontaneously. The median length of postoperative hospital stay was 5 (range 4-7) days. CONCLUSION: Our initial experience confirmed the feasibility and safety of robotic hepatectomy.\n"
     ]
    },
    {
     "name": "stderr",
     "output_type": "stream",
     "text": [
      "/tmp/ipykernel_2359/668022897.py:29: SettingWithCopyWarning: \n",
      "A value is trying to be set on a copy of a slice from a DataFrame\n",
      "\n",
      "See the caveats in the documentation: https://pandas.pydata.org/pandas-docs/stable/user_guide/indexing.html#returning-a-view-versus-a-copy\n",
      "  data[\"joined_content\"][i] = joined_content\n",
      "/tmp/ipykernel_2359/668022897.py:30: SettingWithCopyWarning: \n",
      "A value is trying to be set on a copy of a slice from a DataFrame\n",
      "\n",
      "See the caveats in the documentation: https://pandas.pydata.org/pandas-docs/stable/user_guide/indexing.html#returning-a-view-versus-a-copy\n",
      "  data[\"Note\"][i] = \"qualified length\"\n"
     ]
    },
    {
     "name": "stdout",
     "output_type": "stream",
     "text": [
      "20\n",
      "Title: Laparoscopic liver resections for hepatocellular carcinoma (HCC) in cirrhotic patients.. Abstract: BACKGROUND: The laparoscopic approach for liver resections is still limited and controversial. Nevertheless the advantages connected with a mini-invasive approach are significant, especially in cirrhotic patients. In recent years the progress of laparoscopic procedures and the development of new and dedicated technologies have made endoscopic hepatic surgery feasible and safe. The aim of this study was to report the results of our experience in laparoscopic liver surgery for hepatocellular carcinoma (HCC) in cirrhotic patients. METHODS: From 2000 to 2003, 16 patients (10 male, 6 female; age 48-69 years; mean age 60.1 years) with HCC and associated severe but well compensated liver cirrhosis underwent laparoscopic hepatic resections at our department. Mean tumour size was 2.9 cm (range 1-3.9). Seven of these lesions were in the left liver and nine in the right lobe. Laparoscopy was performed under CO(2) pneumoperitoneum. The liver was always examined using laparoscopic ultrasound (US) to confirm the extension of the lesions and their relationships to the vasculature. The Pringle manoeuvre was not used. The transection of liver parenchyma was obtained by the use of a harmonic scalpel. The specimens were placed in a plastic bag and removed without contact to the abdominal wall. RESULTS: There was one conversion to laparotomy for inadequate exposure. In the remaining 15 patients we performed 13 non-anatomical resections, I segmentectomy and I anatomical left lobectomy. The mean operative time was 152 min (range 80-180). Mean blood loss was 280 ml and none of the patients required blood transfusions. In two patients the resection margin was <1 cm but the capsule was not infiltrated at histology. One patient died on the third postoperative day from a severe respiratory distress syndrome. Major morbidities occurred in two patients who developed moderate postoperative ascites, which resolved successfully with conservative treatment. The mean postoperative hospital stay was 8.8 days. Mean follow-up time has been 18 months, and to date no recurrences at the site of resection or port-site metastases have been observed. DISCUSSION: Limited laparoscopic liver resections in cirrhotic patients are technically feasible with a low complication rate when careful selection criteria are followed (hepatic involvement limited and located in the left or anterior right segments, tumour size smaller than 5 cm, Child-Pugh class A). This approach could be considered the best option for the treatment of small esophitic or subcapsular HCC on well compensated cirrhosis and a useful option when it is necessary to perform a left lateral anatomical resection or non-anatomical resection in well selected patients. In fact the mini-invasive approach can minimise the postoperative morbidity rate, which is still too high in this group of patients. It must be performed in highly s\n"
     ]
    },
    {
     "name": "stderr",
     "output_type": "stream",
     "text": [
      "/tmp/ipykernel_2359/668022897.py:32: SettingWithCopyWarning: \n",
      "A value is trying to be set on a copy of a slice from a DataFrame\n",
      "\n",
      "See the caveats in the documentation: https://pandas.pydata.org/pandas-docs/stable/user_guide/indexing.html#returning-a-view-versus-a-copy\n",
      "  data[\"joined_content\"][i] = joined_content\n",
      "/tmp/ipykernel_2359/668022897.py:33: SettingWithCopyWarning: \n",
      "A value is trying to be set on a copy of a slice from a DataFrame\n",
      "\n",
      "See the caveats in the documentation: https://pandas.pydata.org/pandas-docs/stable/user_guide/indexing.html#returning-a-view-versus-a-copy\n",
      "  data[\"Note\"][i] = \"length is too long\"\n"
     ]
    },
    {
     "name": "stdout",
     "output_type": "stream",
     "text": [
      "21\n",
      "Title: Preoperative transarterial chemoembolization for hepatocellular carcinoma.. Abstract: BACKGROUND/AIMS: The effects of transarterial chemoembolization (TACE) prior to hepatectomy for patients with hepatocellular carcinoma (HCC) are controversial. METHODOLOGY: Clinicopathological profiles and prognosis were compared between patients who underwent hepatic resection following preoperative TACE (Group A, 69 patients) or only resection (Group B, 158 patients). Univariate and multivariate analyses were used to evaluate whether TACE influenced patient prognosis. RESULTS: Profiles of Group A were comparable with those of Group B except for younger age, higher frequency of major hepatectomy, higher incidence of positive surgical margin, vascular invasion and poorly differentiated HCC. Overall survival was significantly worse in Group A than in Group B (5-year survival rate; 29% vs. 69%; p<0.001). A subset of patients in Group A with complete tumor necrosis by TACE showed comparable survival with Group B. Multivariate analysis revealed that preoperative TACE (hazard ratio (HR)=4.3; 95% confidential interval (CI), 2.8-6.6), non-anatomic resection (HR=1.6; 95% CI, 1.1-2.4), blood loss >1L (HR=1.8; 95% CI=1.1-2.8) and vascular invasion (HR=2.3; 95% CI=1.4-3.6) were independent predictors of poor survival. Preoperative TACE was also an independent predictor of extrahepatic metastases (odds ratio, 2.8; 95% CI=1.1-7.1). CONCLUSIONS: Preoperative TACE should not be routinely applied for HCC.\n"
     ]
    },
    {
     "name": "stderr",
     "output_type": "stream",
     "text": [
      "/tmp/ipykernel_2359/668022897.py:29: SettingWithCopyWarning: \n",
      "A value is trying to be set on a copy of a slice from a DataFrame\n",
      "\n",
      "See the caveats in the documentation: https://pandas.pydata.org/pandas-docs/stable/user_guide/indexing.html#returning-a-view-versus-a-copy\n",
      "  data[\"joined_content\"][i] = joined_content\n",
      "/tmp/ipykernel_2359/668022897.py:30: SettingWithCopyWarning: \n",
      "A value is trying to be set on a copy of a slice from a DataFrame\n",
      "\n",
      "See the caveats in the documentation: https://pandas.pydata.org/pandas-docs/stable/user_guide/indexing.html#returning-a-view-versus-a-copy\n",
      "  data[\"Note\"][i] = \"qualified length\"\n"
     ]
    },
    {
     "name": "stdout",
     "output_type": "stream",
     "text": [
      "22\n",
      "Title: Nonanatomical resection is comparable with anatomical resection in solitary hepatocellular carcinoma <5 cm in the right posterior section.. Abstract: Anatomical resection (AR) is superior to nonanatomical resection (NAR) in theory, but the actual clinical benefit of AR for hepatocellular carcinoma (HCC) is controversial due to the substantial heterogeneity of HCC. Here, we retrospectively compared AR and NAR outcomes for solitary hepatocellular carcinoma (HCC) <5 cm in the right posterior section (RPS) and investigated the risk factors for HCC recurrence and liver-related mortality.The study included 99 consecutive patients who underwent curative surgical resection of an HCC in the RPS (S6 and S7) between January 2003 and December 2009. Each patient had a solitary HCC <5 cm and a noncirrhotic liver.The median estimated blood loss during operation and median operative time were significantly worse in the AR group. In addition, the median tumor size and incidence of microvascular invasion were significantly worse in the AR group. The 1-, 3-, and 5-year disease-free survival rates were 74.1%, 66.3%, and 58.2% in the AR group and 84.7%, 64.4%, and 48.2% in the NAR group, respectively (P = 0.172). The corresponding liver-related overall survival rates were 96.3%, 84.7%, and 77.0% in the AR group and 97.2%, 90.1%, and 88.7% in the NAR group, respectively (P = 0.335). NAR was not associated with HCC recurrence or liver-related mortality in multivariate analysis.The outcomes of NAR for a solitary HCC <5 cm in the RPS are comparable to those achieved with AR with respect to long-term liver-related overall survival and disease-free survival.\n"
     ]
    },
    {
     "name": "stderr",
     "output_type": "stream",
     "text": [
      "/tmp/ipykernel_2359/668022897.py:29: SettingWithCopyWarning: \n",
      "A value is trying to be set on a copy of a slice from a DataFrame\n",
      "\n",
      "See the caveats in the documentation: https://pandas.pydata.org/pandas-docs/stable/user_guide/indexing.html#returning-a-view-versus-a-copy\n",
      "  data[\"joined_content\"][i] = joined_content\n",
      "/tmp/ipykernel_2359/668022897.py:30: SettingWithCopyWarning: \n",
      "A value is trying to be set on a copy of a slice from a DataFrame\n",
      "\n",
      "See the caveats in the documentation: https://pandas.pydata.org/pandas-docs/stable/user_guide/indexing.html#returning-a-view-versus-a-copy\n",
      "  data[\"Note\"][i] = \"qualified length\"\n"
     ]
    },
    {
     "name": "stdout",
     "output_type": "stream",
     "text": [
      "23\n",
      "Title: [Comparative analysis of anatomic and non-anatomic hepatectomy for single small hepatocellular carcinoma with microvascular invasion].. Abstract: Objective: To compare the efficacy and safety of anatomic hepatectomy and non-anatomic hepatectomy in the treatment of single small Hepatocellular carcinoma with MVI. Methods: The clinical data of 84 patients with single small Hepatocellular carcinoma with MVI in Beijing Chaoyang Hospital between January 2008 and December 2013 were retrospectively analyzed. Patients undergoing anatomical hepatectomy were enrolled in the AR group, and the patients undergoing non-anatomic hepatectomy were enrolled in the NR group. The efficacy and survival rate of the two groups were compared. Results: (1) Operation time, numbers of patients with volume of intraoperative blood loss ≥300 ml and number of patients with blood transfusion were (170±41)minutes, 8, 7 in the AR group and (148±35)minutes, 19, 18 in the NR group, respectively, with statistically significant differences between the 2 groups (P<0.05). (2) The 1-year, 2-year and 3-year overall survival rate were 85.7%, 68.6%, 57.1% in the AR group and 79.6%, 53.1%, 42.9% in the NR group, respectively. The 1-year, 2-year and 3-year progression-free survival rate were 80.0%, 62.9%, 51.4% in the AR group and 71.4%, 49.0%, 38.8%, in the NR group, respectively. There were statistically significant differences between the 2 groups both in the overall survival rate and the progression-free survival rate (P<0.05). (3) Prognostic factors analysis of HCC patients with MVI: result of univariate analysis showed that maximum diameter of tumor and surgical procedures were relative factors affecting overall survival and progression-free survival of HCC patients with MVI, AFP level was relative factors affecting progression-free survival of HCC patients with MVI, with statistically significant differences (P<0.05). Result of multivariate analysis showed that maximum diameter of tumor between 3.0 and 5.0 cm and non-anatomic liver resection were independent factors affecting poor overall survival and progression-free survival of HCC patients with MVI, and AFP≥20 μg/L and total bilirubin ≥20 μmol/L were independent factors affecting poor progression-free survival of HCC patients with MVI, with a statistically significant differences (P< 0.05). Conclusion: Anatomic hepatectomy for patients with single small hepatocellular carcinoma with microvascular invasion has better clinical efficacy and safety.\n"
     ]
    },
    {
     "name": "stderr",
     "output_type": "stream",
     "text": [
      "/tmp/ipykernel_2359/668022897.py:29: SettingWithCopyWarning: \n",
      "A value is trying to be set on a copy of a slice from a DataFrame\n",
      "\n",
      "See the caveats in the documentation: https://pandas.pydata.org/pandas-docs/stable/user_guide/indexing.html#returning-a-view-versus-a-copy\n",
      "  data[\"joined_content\"][i] = joined_content\n",
      "/tmp/ipykernel_2359/668022897.py:30: SettingWithCopyWarning: \n",
      "A value is trying to be set on a copy of a slice from a DataFrame\n",
      "\n",
      "See the caveats in the documentation: https://pandas.pydata.org/pandas-docs/stable/user_guide/indexing.html#returning-a-view-versus-a-copy\n",
      "  data[\"Note\"][i] = \"qualified length\"\n"
     ]
    },
    {
     "name": "stdout",
     "output_type": "stream",
     "text": [
      "24\n",
      "Title: The procedure outcome of laparoscopic resection for 'small' hepatocellular carcinoma is comparable to vlaparoscopic radiofrequency ablation.. Abstract: BACKGROUND: The aim of this study was to compare the effectiveness of laparoscopic liver resection (LLR) and laparoscopic radiofrequency ablation (LRFA) in the treatment of small nodular hepatocellular carcinoma (HCC). PATIENTS AND METHODS: We enrolled 50 cirrhotic patients with similar baseline characteristics that underwent LLR (n = 26) or LRFA (n = 24), in both cases with intraoperative ultrasonography. Operative and peri-operative data were retrospectively evaluated. RESULTS: LLR included anatomic resection in eight cases and non-anatomic resection in 18. In LRFA patients, a thermoablation of 62 nodules was achieved. Between LLR and LRFA groups, a significant difference was found both for median diameters of treated HCC nodules (30 vs. 17.1 mm; P < 0.001) and the number of treated nodules/patient (1.29 ± 0.62 vs. 2.65 ± 1.55; P < 0.001). A conversion to laparotomy occurred in two LLR patient (7.7%) for bleeding. No deaths occurred in both groups. Morbidity rates were 26.9% in the LLR group versus 16.6% in the LRFA group (P = 0.501). Hospital stay in the LLR and LRFA group was 8.30 ± 6.52 and 6.52 ± 2.69 days, respectively (P = 0.022). The surgical margin was free of tumour cells in all LLR patients, with a margin <5 mm in only one case. In the LRFA group, a complete response was achieved in 90.3% of thermoablated HCC nodules at the 1-month post-treatment computed tomography evaluation. CONCLUSIONS: LLR for small peripheral HCC in patients with chronic liver disease represents a valid alternative to LRFA in terms of patient toleration, surgical outcome of the procedure, and short-term morbidity.\n"
     ]
    },
    {
     "name": "stderr",
     "output_type": "stream",
     "text": [
      "/tmp/ipykernel_2359/668022897.py:29: SettingWithCopyWarning: \n",
      "A value is trying to be set on a copy of a slice from a DataFrame\n",
      "\n",
      "See the caveats in the documentation: https://pandas.pydata.org/pandas-docs/stable/user_guide/indexing.html#returning-a-view-versus-a-copy\n",
      "  data[\"joined_content\"][i] = joined_content\n",
      "/tmp/ipykernel_2359/668022897.py:30: SettingWithCopyWarning: \n",
      "A value is trying to be set on a copy of a slice from a DataFrame\n",
      "\n",
      "See the caveats in the documentation: https://pandas.pydata.org/pandas-docs/stable/user_guide/indexing.html#returning-a-view-versus-a-copy\n",
      "  data[\"Note\"][i] = \"qualified length\"\n"
     ]
    },
    {
     "name": "stdout",
     "output_type": "stream",
     "text": [
      "25\n",
      "Title: Laparoscopic liver resection for peripheral hepatocellular carcinoma in patients with chronic liver disease: midterm results and perspectives.. Abstract: OBJECTIVE: Report the midterm results of laparoscopic resection for hepatocellular in chronic liver disease (CLD). SUMMARY BACKGROUND DATA: Surgical resection for hepatocellular carcinoma (HCC) in chronic liver disease (CLD) remains controversial because of high morbidity and recurrence rates. Laparoscopic resection of liver tumors has recently been developed and could reduce morbidity. METHODS: From 1998 to 2003, patients with HCC and CLD were considered for laparoscopic liver resection. Inclusion criteria were chronic hepatitis or Child's A cirrhosis, solitary tumor < or =5 cm in size, and location in peripheral segments of the liver. Mortality, morbidity, recurrence rates, and survival were analyzed. RESULTS: A total of 27 patients were included. Liver resections included anatomic resection in 17 cases and non anatomic resection in 10. Seven conversions to laparotomy (26%) occurred for moderate hemorrhage in 5 cases and technical difficulties in 2 cases. Mortality and morbidity rates were 0% and 33%, respectively. Postoperative ascites and encephalopathy occurred in 2 patients (7%) who both had undergone conversion to laparotomy. Mean surgical margin was 11 mm (range, 1-47 mm). After a mean follow-up of 2 years (range, 1.1-4.7), 8 patients (30%) developed intrahepatic tumor recurrence of which one died. Treatment of recurrence was possible in 4 patients (50%), including orthotopic liver transplantation, right hepatectomy, radiofrequency ablation, and chemoembolization in 1 case each. There were no adhesions in the 2 reoperated patients. Overall and disease-free 3-year survival rates were 93% and 64%, respectively. CONCLUSION: Our study shows that laparoscopic liver resection for HCC in selected patients is a safe procedure with very good midterm results. This approach could have an impact on the therapeutic strategy of HCC complicating CLD as a treatment with curative intent or as a bridge to liver transplantation.\n"
     ]
    },
    {
     "name": "stderr",
     "output_type": "stream",
     "text": [
      "/tmp/ipykernel_2359/668022897.py:29: SettingWithCopyWarning: \n",
      "A value is trying to be set on a copy of a slice from a DataFrame\n",
      "\n",
      "See the caveats in the documentation: https://pandas.pydata.org/pandas-docs/stable/user_guide/indexing.html#returning-a-view-versus-a-copy\n",
      "  data[\"joined_content\"][i] = joined_content\n",
      "/tmp/ipykernel_2359/668022897.py:30: SettingWithCopyWarning: \n",
      "A value is trying to be set on a copy of a slice from a DataFrame\n",
      "\n",
      "See the caveats in the documentation: https://pandas.pydata.org/pandas-docs/stable/user_guide/indexing.html#returning-a-view-versus-a-copy\n",
      "  data[\"Note\"][i] = \"qualified length\"\n"
     ]
    },
    {
     "name": "stdout",
     "output_type": "stream",
     "text": [
      "26\n",
      "Title: Liver resection for hepatocellular carcinoma on cirrhosis: analysis of mortality, morbidity and survival--a European single center experience.. Abstract: AIMS: To evaluate short- and long-term results of liver resections and prognostic factors in cirrhotic patients with hepatocellular carcinoma. STUDY DESIGN: A single-unit, retrospective study analyzing 216 patients with histologically confirmed cirrhosis who underwent hepatic resection for hepatocellular carcinoma. All clinico-pathologic and follow-up data were collected prospectively. RESULTS: Child A patients had a significantly lower in-hospital mortality rate compared to Child B-C: 4.7 vs 21.3% (p=0.0003). Overall morbidity rate was 38.4%; multiple logistic regression analysis identified liver function, hepatic pedicle clamping time, number of nodes and transfusion rate as independent predictors for post-operative complications. Overall and disease-free 5-year survival rates were 34.1 and 25.2%. Multivariate analysis showed that Child A, radical resection, tumour size < or =5 cm and, absence of vascular invasion were independent prognostic factors for long-term survival. No significant differences in overall and disease-free survival were found according to the type of resection (anatomic vs non-anatomic). CONCLUSIONS: Patients with preserved liver function and small-size, single-node hepatocellular carcinomas are the best candidates for hepatic resection.\n"
     ]
    },
    {
     "name": "stderr",
     "output_type": "stream",
     "text": [
      "/tmp/ipykernel_2359/668022897.py:29: SettingWithCopyWarning: \n",
      "A value is trying to be set on a copy of a slice from a DataFrame\n",
      "\n",
      "See the caveats in the documentation: https://pandas.pydata.org/pandas-docs/stable/user_guide/indexing.html#returning-a-view-versus-a-copy\n",
      "  data[\"joined_content\"][i] = joined_content\n",
      "/tmp/ipykernel_2359/668022897.py:30: SettingWithCopyWarning: \n",
      "A value is trying to be set on a copy of a slice from a DataFrame\n",
      "\n",
      "See the caveats in the documentation: https://pandas.pydata.org/pandas-docs/stable/user_guide/indexing.html#returning-a-view-versus-a-copy\n",
      "  data[\"Note\"][i] = \"qualified length\"\n"
     ]
    },
    {
     "name": "stdout",
     "output_type": "stream",
     "text": [
      "27\n",
      "Title: Clinical analysis of anatomical resection for the treatment of hepatocellular carcinoma based on the stratification of liver function.. Abstract: BACKGROUND: This study aimed to clarify the efficacy of anatomical resection (AR) for the treatment of hepatocellular carcinoma (HCC) compared with that of nonanatomical resection (NAR) based on the stratification of liver function (LF). METHODS: The clinical records of 174 patients with a single HCC, 2-5 cm in diameter and without macroscopic vascular invasion, were analyzed. AR was performed in 132 patients and NAR was performed in 42 patients. The indocyanine green retention rate at 15 min (ICGR15) of the 78 patients classified as the good-LF group was 10-20 % and the ICGR15 of the 54 patients classified as the poor-LF group was 20-40 %. RESULTS: The 5-year overall survival (OS) and disease-free survival rates of the 174 patients were 67.6 and 33.4 %, respectively. Cox proportional hazard analysis identified ICGR15 ≥ 20 %, liver cirrhosis, α-fetoprotein ≥ 100 mg/dL, and infiltrating growth as independent prognostic factors. Liver cirrhosis was significantly less frequent in patients who underwent AR than in patients who underwent NAR (52 vs. 79 %, p = 0.002). In the subgroup analysis of the good-LF group, there were no significant differences in 5-year OS after AR and NAR (73.3 vs. 65.2 %, p = 0.857). By contrast, in the subgroup analysis of the poor-LF group, the 5-year OS after AR was significantly worse than after NAR (45.3 vs. 77.4 %, p = 0.044). CONCLUSION: In patients with an ICGR15 ≥ 20 %, we recommend NAR rather than AR for the treatment of a solitary 2-5-cm-diameter HCC and without macroscopic vascular invasion.\n"
     ]
    },
    {
     "name": "stderr",
     "output_type": "stream",
     "text": [
      "/tmp/ipykernel_2359/668022897.py:29: SettingWithCopyWarning: \n",
      "A value is trying to be set on a copy of a slice from a DataFrame\n",
      "\n",
      "See the caveats in the documentation: https://pandas.pydata.org/pandas-docs/stable/user_guide/indexing.html#returning-a-view-versus-a-copy\n",
      "  data[\"joined_content\"][i] = joined_content\n",
      "/tmp/ipykernel_2359/668022897.py:30: SettingWithCopyWarning: \n",
      "A value is trying to be set on a copy of a slice from a DataFrame\n",
      "\n",
      "See the caveats in the documentation: https://pandas.pydata.org/pandas-docs/stable/user_guide/indexing.html#returning-a-view-versus-a-copy\n",
      "  data[\"Note\"][i] = \"qualified length\"\n"
     ]
    },
    {
     "name": "stdout",
     "output_type": "stream",
     "text": [
      "28\n",
      "Title: Systematic extended right posterior sectionectomy: a safe and effective alternative to right hepatectomy.. Abstract: BACKGROUND: A surgical approach based on ultrasound-guided hepatectomy might minimize the need for major resection, whose rates of morbidity and mortality are not negligible. Right hepatectomy (RH) is traditionally performed in cases of vascular invasion of the right hepatic vein with multiple tumors in the right posterior section, and/or of the right posterior portal branch (P6-7) with tumor in contact with right anterior portal branch (P5-8). We herein describe an alternative approach to RH consisting in ultrasound-guided systematic extended right posterior hepatic sectionectomy (SERPS). METHODS: Among 207 consecutive patients who underwent hepatectomies, 21 (10%) underwent SERPS. Median age was 67 years (range, 48-79). There were 13 men and 8 women. Ten (48%) patients had hepatocellular carcinoma; 11 (52%) had colorectal liver metastases. Median tumor number was 2 (range, 1-15); median tumor size was 4.5 cm (range, 2.5-20). Ten (48%) patients had cirrhosis, 8 (38%) had steatosis, and 3 (16%) had normal liver. Surgical strategy was based on tumor-vessels relationship at intraoperative ultrasonography (IOUS) and on findings at color-Doppler IOUS. RESULTS: In-hospital and 90-days mortality were nil. Major and minor morbidity occurred in 3 (14%) and 2 (9.5%) patients, respectively. No patients were reoperated because of complications. Blood transfusions were given to 2 (9.5%) patients. After a median follow-up of 21 months, no local recurrence was observed. CONCLUSIONS: IOUS-guided SERPS is feasible, safe, and effective. It should be applied whenever possible as alternative resection to RH to maximize liver parenchymal sparing.\n"
     ]
    },
    {
     "name": "stderr",
     "output_type": "stream",
     "text": [
      "/tmp/ipykernel_2359/668022897.py:29: SettingWithCopyWarning: \n",
      "A value is trying to be set on a copy of a slice from a DataFrame\n",
      "\n",
      "See the caveats in the documentation: https://pandas.pydata.org/pandas-docs/stable/user_guide/indexing.html#returning-a-view-versus-a-copy\n",
      "  data[\"joined_content\"][i] = joined_content\n",
      "/tmp/ipykernel_2359/668022897.py:30: SettingWithCopyWarning: \n",
      "A value is trying to be set on a copy of a slice from a DataFrame\n",
      "\n",
      "See the caveats in the documentation: https://pandas.pydata.org/pandas-docs/stable/user_guide/indexing.html#returning-a-view-versus-a-copy\n",
      "  data[\"Note\"][i] = \"qualified length\"\n"
     ]
    },
    {
     "name": "stdout",
     "output_type": "stream",
     "text": [
      "29\n",
      "Title: Extent of liver resection influences the outcome in patients with cirrhosis and small hepatocellular carcinoma.. Abstract: BACKGROUND: The long-term outcome after resection of hepatocellular carcinoma (HCC) is influenced by parameters related to the tumor and the underlying liver disease. However, the extent of the resection, which can be limited or anatomical (including the tumor and its portal territory), is controversial. METHODS: Among 64 Child-Pugh A patients with cirrhosis who underwent curative liver resection for small HCC (< or = 4 cm) between 1990 and 1996, 34 patients underwent limited resection with a margin width of at least 1 cm, and 30 patients underwent anatomic resection of at least 1 liver segment with complete removal of the portal area containing the tumor. The 2 groups were comparable in terms of epidemiologic and pathologic parameters. The major end points were: (1) in-hospital mortality and morbidity; (2) overall and disease-free survival; and (3) rate and topography of recurrence. RESULTS: The 30-day mortality (6% vs 7%) and morbidity (52% vs 47%) rates after limited and anatomic liver resection were not statistically different. The 5- and 8-year overall survival rates after limited versus anatomic resection were, respectively, 35% versus 54% (P <.05) and 6% versus 45% (P <.05). The 5- and 8-year disease-free survival rates were, respectively, 26% versus 45% and 0% versus 21% (P <.05). Local recurrence was more frequently observed after limited resections than after anatomic resections (50% vs 10%, P <.05). CONCLUSIONS: In patients with cirrhosis and a small HCC, anatomic resection achieves better disease-free survival than limited resection without increasing the postoperative risk. Therefore, anatomical resection should be the treatment of choice and considered as the reference surgical treatment compared with other treatments.\n"
     ]
    },
    {
     "name": "stderr",
     "output_type": "stream",
     "text": [
      "/tmp/ipykernel_2359/668022897.py:29: SettingWithCopyWarning: \n",
      "A value is trying to be set on a copy of a slice from a DataFrame\n",
      "\n",
      "See the caveats in the documentation: https://pandas.pydata.org/pandas-docs/stable/user_guide/indexing.html#returning-a-view-versus-a-copy\n",
      "  data[\"joined_content\"][i] = joined_content\n",
      "/tmp/ipykernel_2359/668022897.py:30: SettingWithCopyWarning: \n",
      "A value is trying to be set on a copy of a slice from a DataFrame\n",
      "\n",
      "See the caveats in the documentation: https://pandas.pydata.org/pandas-docs/stable/user_guide/indexing.html#returning-a-view-versus-a-copy\n",
      "  data[\"Note\"][i] = \"qualified length\"\n"
     ]
    },
    {
     "name": "stdout",
     "output_type": "stream",
     "text": [
      "30\n",
      "Title: Total anatomical laparoscopic liver resection of segment 4 (S4), extended S4, and subsegments S4a and S4b for hepatocellular carcinoma.. Abstract: BACKGROUND: When a tumor is located in segment 4 (S4), it is preferable to perform only limited resection of S4, even in laparoscopic surgery. Here we describe anatomical laparoscopic S4, subdivision of S4 (S4a and S4b), and extended S4 segmentectomy for hepatocellular carcinoma (HCC), using the Glissonian pedicle transection method for each, and evaluate the feasibility of laparoscopic liver resection (LLR) for tumors located in S4. PATIENTS AND METHODS: Among 417 patients who underwent LLR for malignant tumors between March 2003 and February 2014, we performed retrospective analysis of the clinical and perioperative outcomes of 10 patients who underwent anatomical liver resection for tumors located in the S4 area of the liver. RESULTS: Total laparoscopic anatomic liver resection (S4, extended S4, and S4a and S4b segmentectomies) were performed in 10 patients. There was no open conversion or postoperative mortality. The mean operation time was 316.5 minutes (range, 175-460 minutes), and mean estimated blood loss was 592 mL (range, 100-1600 mL). An intraoperative transfusion was necessary in 2 (20%) of the 10 patients. All patients had negative resection margins. Three patients (30%) had postoperative complications (intraabdominal fluid collection). The mean postoperative hospital stay was 7.7 days (range, 3-13 days). The median follow-up period was 18 months. Intrahepatic recurrence occurred in 2 (20%) of the 10 patients, which was managed by radiofrequency ablation with transarterial chemoembolization in 1 patient and by transarterial chemoembolization alone in the other patient. CONCLUSIONS: Total laparoscopic anatomical S4, extended S4, or S4a or S4b segmentectomy is a feasible procedure for HCC. The Glissonian pedicle transection method is an effective technique for rapid and safe control and subdivision of the S4 pedicle that facilitates anatomical laparoscopic S4, extended S4, and S4a and S4b segmentectomy.\n"
     ]
    },
    {
     "name": "stderr",
     "output_type": "stream",
     "text": [
      "/tmp/ipykernel_2359/668022897.py:29: SettingWithCopyWarning: \n",
      "A value is trying to be set on a copy of a slice from a DataFrame\n",
      "\n",
      "See the caveats in the documentation: https://pandas.pydata.org/pandas-docs/stable/user_guide/indexing.html#returning-a-view-versus-a-copy\n",
      "  data[\"joined_content\"][i] = joined_content\n",
      "/tmp/ipykernel_2359/668022897.py:30: SettingWithCopyWarning: \n",
      "A value is trying to be set on a copy of a slice from a DataFrame\n",
      "\n",
      "See the caveats in the documentation: https://pandas.pydata.org/pandas-docs/stable/user_guide/indexing.html#returning-a-view-versus-a-copy\n",
      "  data[\"Note\"][i] = \"qualified length\"\n"
     ]
    },
    {
     "name": "stdout",
     "output_type": "stream",
     "text": [
      "31\n",
      "Title: [Efficacy of three-dimensional visualization technology in the precision diagnosis and treatment for primary liver cancer: a retrospective multicenter study of 1 665 cases in China].. Abstract: Objective: To evaluate the efficacy of three-dimensional(3D) visualization technology in the precision diagnosis and treatment for primary liver cancer. Methods: A total of 1 665 patients with primary liver cancer who admitted to seven medical centers in China between January 2009 to January 2019, diagnosed and treated by 3D visualization protocol were analyzed, and their clinical data were retrospectively reviewed. There were 1 255 males(75.4%) and 410 females(24.6%), with age of (52.9±11.9) years (range: 18 to 86 years). The acquisition of high-quality CT images with submillimeter spatial resolution were conducted using a quality control system. By means of homogenization methods, 3D reconstruction and 3D visualization analysis were performed. Postoperative observation: pathology reports, microvascular invasion, perioperative complications and follow-up. SPSS 25.0 statistical software was used for statistical description and analysis of clinical data. Kaplan-Meier curve was used to calculate overall survival and disease-free survival rate. Results: (1)In the sample of 1 265 patients, 3D reconstructed models clearly displayed as follows. tumor size: ≤2 cm in 155 cases (9.31%), >2 cm to 5 cm in 551 cases (33.09%), >5 cm to 10 cm in 636 cases (38.20%), >10 cm in 323 cases (19.40%). (2) Classification of hepatic blood vessels. Hepatic artery: type Ⅰ(normal type) in 1 494 cases(89.73%),variant hepatic artery in 171 cases (10.27%), including type Ⅱ in 35 cases, type Ⅲ in 38 cases, and other types in 98 cases. Hepatic vein: type Ⅰ (normal) in 1 195 cases (71.77%),variant hepatic veins in 470 cases(28.23%), including type Ⅱ in 376 cases and type Ⅲ in 94 cases. Portal vein:normal type in 1 315 cases (78.98%), variant portal veins in 350 cases (21.02%), including type Ⅰ in 189 cases, type Ⅱin 103 cases, type Ⅲ in 50 cases, type Ⅳ in 8 cases. Hepatic artery variation coexisting with portal vein variation in 24 cases (1.44%). Hepatic vein variation coexisting with portal vein variation in 113 cases (6.79%). Three types of vascular variation in 4 cases (0.24%), including coexistence of type Ⅱ hepatic artery variation or type Ⅰ portal vein variation with type Ⅲ hepatic vein variation in 2 cases,coexistence of type Ⅲ hepatic artery variation or type Ⅲ portal vein variation with type Ⅱ hepatic vein variation in 2 cases. (3) Preoperative liver volume calculation:1 499.3 (514.4)ml (range:641.7 to 6 637.0 ml) of total liver volume, including 479.1 (460.1) ml (range:10.5 to 2 086.8 ml) for liver resection and 959.9 (460.4)ml (range:306.1 to 5 638.0 ml) for residual function. (4)Operative methods: anatomical hepatectomy in 1 458 cases (87.57%); non-anatomic hepatectomy in 207 cases (12.43%). (5)the median operation time was 285(165)minutes (range: 40 to720 minutes). (\n"
     ]
    },
    {
     "name": "stderr",
     "output_type": "stream",
     "text": [
      "/tmp/ipykernel_2359/668022897.py:32: SettingWithCopyWarning: \n",
      "A value is trying to be set on a copy of a slice from a DataFrame\n",
      "\n",
      "See the caveats in the documentation: https://pandas.pydata.org/pandas-docs/stable/user_guide/indexing.html#returning-a-view-versus-a-copy\n",
      "  data[\"joined_content\"][i] = joined_content\n",
      "/tmp/ipykernel_2359/668022897.py:33: SettingWithCopyWarning: \n",
      "A value is trying to be set on a copy of a slice from a DataFrame\n",
      "\n",
      "See the caveats in the documentation: https://pandas.pydata.org/pandas-docs/stable/user_guide/indexing.html#returning-a-view-versus-a-copy\n",
      "  data[\"Note\"][i] = \"length is too long\"\n"
     ]
    },
    {
     "name": "stdout",
     "output_type": "stream",
     "text": [
      "32\n",
      "Title: The Impact of Tumor Size on Long-Term Survival Outcomes After Resection of Solitary Hepatocellular Carcinoma: Single-Institution Experience with 2558 Patients.. Abstract: BACKGROUND: According to the 7th AJCC TNM staging system, solitary hepatocellular carcinoma (HCC) is classified as T1 or T2 based on microvascular invasion (MVI) regardless of tumor size. This study intended to evaluate the prognostic impact of tumor size on survival outcomes after macroscopic curative resection of solitary HCC. METHODS: Patients who underwent R0 resection of solitary HCC <10 cm (n = 2558) were selected for study. Follow-up lasted ≥24 months or until death. RESULTS: HCC was detected during regular health screening or routine follow-up in 2054 cases (80.3%). Hepatitis B virus (HBV) infection was associated in 2127 (83.2%). Mean patient age was 54.4 ± 9.9 years. Anatomical resection was performed in 1786 (69.8%). MVI was identified in 407 (16.0%) which therefore became stage T2; the other 2150 became stage T1. Tumor recurrence and patient survival rates were 24.9 and 95.0% after 1 year, 49.6 and 84.1% after 3 years, 57.7 and 75.0 % after 5 years, and 67.3 and 56.6% after 10 years, respectively. Multivariate analysis showed that non-anatomical resection, MVI, and tumor size >5 cm were independent risk factors for both tumor recurrence and overall patient survival. Long-term survival correlated negatively with tumor size and MVI. Subgroup analysis with MVI and size cutoff of 5 cm revealed a significant survival difference (p = 0.000). Tumor size >5 cm was not a significant prognostic factor in non-HBV patients. CONCLUSIONS: These results suggest that the prognostic impact of tumor size may be underestimated in the current version of the AJCC staging system and that solitary HCC staging could be improved with inclusion of tumor size cutoff of 5 cm in HBV-associated patients. Further validation is necessary with multicenter studies.\n"
     ]
    },
    {
     "name": "stderr",
     "output_type": "stream",
     "text": [
      "/tmp/ipykernel_2359/668022897.py:29: SettingWithCopyWarning: \n",
      "A value is trying to be set on a copy of a slice from a DataFrame\n",
      "\n",
      "See the caveats in the documentation: https://pandas.pydata.org/pandas-docs/stable/user_guide/indexing.html#returning-a-view-versus-a-copy\n",
      "  data[\"joined_content\"][i] = joined_content\n",
      "/tmp/ipykernel_2359/668022897.py:30: SettingWithCopyWarning: \n",
      "A value is trying to be set on a copy of a slice from a DataFrame\n",
      "\n",
      "See the caveats in the documentation: https://pandas.pydata.org/pandas-docs/stable/user_guide/indexing.html#returning-a-view-versus-a-copy\n",
      "  data[\"Note\"][i] = \"qualified length\"\n"
     ]
    },
    {
     "name": "stdout",
     "output_type": "stream",
     "text": [
      "33\n",
      "Title: Long-term survival with repeated resections of recurrent hepatocellular carcinoma in a non-cirrhotic liver: case report and brief review of the literature.. Abstract: A healthy and asymptomatic 55-year-old woman underwent a complete (R0) non-anatomical resection of an incidentally detected solitary hepatocellular carcinoma (HCC) in a non-cirrhotic liver. Six years following the initial R0 non-anatomical resection, intrahepatic recurrence was diagnosed and the patient underwent a second R0 non-anatomical resection. At 12.5 years following the initial resection, a further intrahepatic recurrence was diagnosed, which was once again completely resected by left lateral hepatectomy. This represents one of the longest reported periods between initial resection and HCC recurrence, following repeated R0 resections in the absence of cirrhosis. The appropriate surveillance period and genetic testing protocol for such cases remains to be established.\n"
     ]
    },
    {
     "name": "stderr",
     "output_type": "stream",
     "text": [
      "/tmp/ipykernel_2359/668022897.py:29: SettingWithCopyWarning: \n",
      "A value is trying to be set on a copy of a slice from a DataFrame\n",
      "\n",
      "See the caveats in the documentation: https://pandas.pydata.org/pandas-docs/stable/user_guide/indexing.html#returning-a-view-versus-a-copy\n",
      "  data[\"joined_content\"][i] = joined_content\n",
      "/tmp/ipykernel_2359/668022897.py:30: SettingWithCopyWarning: \n",
      "A value is trying to be set on a copy of a slice from a DataFrame\n",
      "\n",
      "See the caveats in the documentation: https://pandas.pydata.org/pandas-docs/stable/user_guide/indexing.html#returning-a-view-versus-a-copy\n",
      "  data[\"Note\"][i] = \"qualified length\"\n"
     ]
    },
    {
     "name": "stdout",
     "output_type": "stream",
     "text": [
      "34\n",
      "Title: Hand-assisted laparoscopic hepatectomy for solid tumor in the posterior portion of the right lobe: initial experience.. Abstract: OBJECTIVE: To prove the feasibility of hand-assisted laparoscopic liver resection for tumors located in the posterior portion of the right hepatic lobe. SUMMARY BACKGROUND DATA: Use of laparoscopic liver resection remains limited due to problems with technique, especially when the tumor is located near the diaphragm, or in the posterior portion of the right lobe. METHODS: Between October 2001 and June 2002, a total of 7 patients with solid hepatic tumors involving the posterior portion of the right lobe of liver underwent hand-assisted laparoscopic hepatectomy with the HandPort system at our hospital. Surgical techniques used included CO2 pneumoperitoneum and the creation of a wound on the right upper quadrant of the abdomen for HandPort placement. The location of tumor and its transection margin were decided by laparoscopic ultrasound. The liver resection was performed using the Ultrashear without portal triad control, with the specimens obtained then placed in a bag and removed directly via the HandPort access. RESULTS: The 5 male and 2 female patients ranged in age from 41 to 76 years (mean 62.3 +/- 14.4). Surgical procedures included partial hepatectomy for 6 patients and segmentectomy for one, all successfully completed using a variant of the minimally invasive laparoscopic procedure without conversion to open surgery. The mean duration of the operation was 140.7 +/- 42.2 minutes (90-180). The blood loss during surgery was 257.1 +/- 159 mL (250-500), without any requirement for intraoperative or postoperative transfusion. Pathology revealed hemagioma (n = 2), colon cancer metastasis (n = 2), and hepatocellular carcinoma (n = 3). There were no deaths postoperatively, with 1 patient suffering bile leakage. Mean hospital stay was 5.3 +/- 1.3 days postsurgery. CONCLUSION: The results of this study suggest that laparoscopic liver resection using the HandPort system is feasible for selected patients with lesions in the posterior portion of the right hepatic lobe requiring limited resection. Individuals with small tumors may benefit; because a large abdominal incision is not required, the wound-related complication rate might be reduced.\n"
     ]
    },
    {
     "name": "stderr",
     "output_type": "stream",
     "text": [
      "/tmp/ipykernel_2359/668022897.py:29: SettingWithCopyWarning: \n",
      "A value is trying to be set on a copy of a slice from a DataFrame\n",
      "\n",
      "See the caveats in the documentation: https://pandas.pydata.org/pandas-docs/stable/user_guide/indexing.html#returning-a-view-versus-a-copy\n",
      "  data[\"joined_content\"][i] = joined_content\n",
      "/tmp/ipykernel_2359/668022897.py:30: SettingWithCopyWarning: \n",
      "A value is trying to be set on a copy of a slice from a DataFrame\n",
      "\n",
      "See the caveats in the documentation: https://pandas.pydata.org/pandas-docs/stable/user_guide/indexing.html#returning-a-view-versus-a-copy\n",
      "  data[\"Note\"][i] = \"qualified length\"\n"
     ]
    },
    {
     "name": "stdout",
     "output_type": "stream",
     "text": [
      "35\n",
      "Title: Changing trends in hepatic resection for malignant liver tumours.. Abstract: The records of 57 patients who underwent 65 liver resections for malignant tumours were reviewed. All patients were treated from August 1989 to November 1992 at the Hammersmith Hospital. The type of resections performed were: 13 extended right hepatectomies, 12 right hepatectomies, 12 left hepatectomies, 1 extended left hepatectomy, 7 unisegmentectomies, 10 bisegmentectomies, 3 trisegmentectomies and 3 non-anatomical resections. Operative mortality was 1.5% (1 patient). Repeated liver resections for tumour recurrence were performed in 6 patients with satisfactory early results. The mean postoperative hospital stay was 19.7 +/- 14.2 days. Improvements in operative results have led to relaxation of resectability criteria. A policy of liver resection for \"early\" tumours for cure has been extended to \"advanced\" lesions for symptoms palliation. Liver resection still remains a major operation but has become a routine safe surgical procedure.\n"
     ]
    },
    {
     "name": "stderr",
     "output_type": "stream",
     "text": [
      "/tmp/ipykernel_2359/668022897.py:29: SettingWithCopyWarning: \n",
      "A value is trying to be set on a copy of a slice from a DataFrame\n",
      "\n",
      "See the caveats in the documentation: https://pandas.pydata.org/pandas-docs/stable/user_guide/indexing.html#returning-a-view-versus-a-copy\n",
      "  data[\"joined_content\"][i] = joined_content\n",
      "/tmp/ipykernel_2359/668022897.py:30: SettingWithCopyWarning: \n",
      "A value is trying to be set on a copy of a slice from a DataFrame\n",
      "\n",
      "See the caveats in the documentation: https://pandas.pydata.org/pandas-docs/stable/user_guide/indexing.html#returning-a-view-versus-a-copy\n",
      "  data[\"Note\"][i] = \"qualified length\"\n"
     ]
    },
    {
     "name": "stdout",
     "output_type": "stream",
     "text": [
      "36\n",
      "Title: Hepatectomy with microwave tissue coagulation for hepatocellular carcinoma.. Abstract: From 1984 through 1994, 99 consecutive patients with hepatocellular carcinoma (HCC) underwent hepa-tectomy with microwave tissue coagulation (MTC). We performed limited resection (Hr0) in 28 patients, subsegmentectomy (HrS) in 25 patients, segmentectomy (Hr1) in 21 patients, and lobectomy or extended lobectomy (Hr2) in 25 patients. The patients were divided into two groups: group A, 86 patients with tumors smaller than 1 kg and no tumor thrombi in the main portal trunk; and group B, 13 patients with a tumor 1 kg or larger, or with macroscopic tumor thrombi in the main portal trunk. In group A, mean blood loss was 838 ml for Hr0, 1948 ml for HrS, 1765 ml for Hr1, and 1325 ml for Hr2. The mean operative time in group A ranged from 3 h 43 min for Hr0 to 4 h 57 min for Hr2. In group B, the mean operative time was 6 h 3 min and mean blood loss was 6053 ml. Our MTC method was associated with an in-hospital mortality rate of 3% and a major complication rate of 13.1%. The 5-year survival and disease-free survival rates were 43.4% and 25.4%, respectively. The 5-year survival rate of patients without portal tumor thrombi (50.9%) was significantly better than that of patients with portal tumor thrombi (11.9%) (P < 0.001). The 5-year survival rate of patients who underwent curative resection (58.1%) was significantly better than that of patients who underwent noncurative resection (22.9%) (P < 0.001). The 5-year survival rates of patients in group A without portal tumor thrombi did not differ between those who had cancer-negative margins (54.0%) and those with cancerpositive margins (49.6%) at resection. Recurrence and local recurrence rates did not differ in patients with cancer-positive margins (63.6% and 7.3%, respectively) and patients with cancer-negative margins (56.5% and 8.7%, respectively). These results suggested that microscopic residual cancer in the resected margin was coagulated by MTC. Blood loss, operative time, and clinical outcome in this series of 99 consecutive hepatectomies were comparable with values in earlier reports in which such hemostatic methods as the Pringle maneuver were used. We conclude that hepatectomy with MTC is useful and safe and produces consistent results.\n"
     ]
    },
    {
     "name": "stderr",
     "output_type": "stream",
     "text": [
      "/tmp/ipykernel_2359/668022897.py:29: SettingWithCopyWarning: \n",
      "A value is trying to be set on a copy of a slice from a DataFrame\n",
      "\n",
      "See the caveats in the documentation: https://pandas.pydata.org/pandas-docs/stable/user_guide/indexing.html#returning-a-view-versus-a-copy\n",
      "  data[\"joined_content\"][i] = joined_content\n",
      "/tmp/ipykernel_2359/668022897.py:30: SettingWithCopyWarning: \n",
      "A value is trying to be set on a copy of a slice from a DataFrame\n",
      "\n",
      "See the caveats in the documentation: https://pandas.pydata.org/pandas-docs/stable/user_guide/indexing.html#returning-a-view-versus-a-copy\n",
      "  data[\"Note\"][i] = \"qualified length\"\n"
     ]
    },
    {
     "name": "stdout",
     "output_type": "stream",
     "text": [
      "37\n",
      "Title: [Single hepatocellular carcinoma (phi < or = 5 cm) in liver cirrhosis. Early diagnosis and surgical removal].. Abstract: 721 patients with liver cirrhosis were regularly screened by sonography and determination of alpha fetoprotein during a period of eleven years (1.1.1982-1.1.1993). In 137 of them hepatocellular carcinoma (HCC) was diagnosed; 28 (20.4%) had a unilocular HCC with a diameter up to 5 cm. Diagnosis was regularly verified by sonographic guided puncture, in rare cases by laparoscopy and biopsy. Beside a diameter of 5 cm the tumor should be localized at least 5 mm from the main structures in the hilus, and not in the centre of the liver; furthermore multilocular hepatocellular carcinomas and intra- and extrahepatic metastases were contraindications. Child-Pugh-classification should be A+B and urea synthesis rate at least 6 g per day. In 21 patients (75%) a portal hypertension was diagnosed; 19 (68%) had bled from esophageal varices; in case of one bleeding a therapeutic sclerotherapy and in case of recurrent variceal hemorrhage an elective shunt operation were performed. Surgical resection was carried out with controlled hypotension and temporary occlusion of the hepatoduodenal ligament. Tumor was removed by segmentectomy or bisegmentectomy and in rare cases by enucleation. There were 3 clinical deaths (10.7%); causes of death were liver failure and (2) sepsis (1). All patients could be followed up to January 1, 1993; there were 12 further deaths of liver failure, tumor recurrence or second tumor. 13 patients are still living. Thus the live expectancy for one year was 80, for 5 years 50 and for 10 years 30%. There is no doubt, that it is possible to detect hepatocellular carcinoma in patients with liver cirrhosis early by regular sonography and determination of alpha-fetoprotein.(ABSTRACT TRUNCATED AT 250 WORDS)\n"
     ]
    },
    {
     "name": "stderr",
     "output_type": "stream",
     "text": [
      "/tmp/ipykernel_2359/668022897.py:29: SettingWithCopyWarning: \n",
      "A value is trying to be set on a copy of a slice from a DataFrame\n",
      "\n",
      "See the caveats in the documentation: https://pandas.pydata.org/pandas-docs/stable/user_guide/indexing.html#returning-a-view-versus-a-copy\n",
      "  data[\"joined_content\"][i] = joined_content\n",
      "/tmp/ipykernel_2359/668022897.py:30: SettingWithCopyWarning: \n",
      "A value is trying to be set on a copy of a slice from a DataFrame\n",
      "\n",
      "See the caveats in the documentation: https://pandas.pydata.org/pandas-docs/stable/user_guide/indexing.html#returning-a-view-versus-a-copy\n",
      "  data[\"Note\"][i] = \"qualified length\"\n"
     ]
    },
    {
     "name": "stdout",
     "output_type": "stream",
     "text": [
      "38\n",
      "Title: [Liver resection for hepatocellular carcinoma in cirrhotic patients].. Abstract: The incidence of hepatocellular carcinoma (HCC) in cirrhotic patients is increasing. Despite advances in imaging and laboratory screening which allow earlier diagnosis, the surgeon is all too often confronted with an HCC of advanced stage or arising in the setting of severe cirrhosis. Hepatic resection is still considered the treatment of choice for hepatocellular carcinoma in patients with liver cirrhosis. From 1998 to 2005, 6 patients (5 males, 1 female, age 52-70 years, mean age 64.1 years) with HCC associated severe, but well compensated liver cirrhosis (Child A-- 4 patients, Child B--2 patients) underwent 9 hepatic resection in our department. Mean tumor size was 56 mm (range 23-86 mm). Two of these lesions were in the left liver and four in the right lobe. Doppler ultrasonography was performed in all cases and CT in 3 cases to confirm the extension of the lesions. Laparoscopy was performed in 3 patients under CO2 pneumoperitoneum. The Pringle maneuver was not used. The transection of the liver parenchyma was obtained by the use of Ligasure and harmonic scalpel. Nine hepatic resections were performed: 7 segmentectomy and 2 non-anatomical resections. The resection margin was 1 cm. The mean operative time was 90 minutes (range 60-120). Mean blood loss was 250 ml and 2 patients required blood transfusion. One patient died on the tenth postoperative day from a severe respiratory distress syndrome and hepatic failure. Major morbidities occurred in three patients who developed moderate postoperative ascites, which resolved successfully with conservative treatment in two patients. Limited liver resection in cirrhotic patients with HCC is feasible with a low complication rate when careful selection criteria are followed (tumor size smaller than 8 cm, Child-Pugh A class and the good general conditions of the patients). Other medical and interventional treatments (chemoembolization, chemotherapy) can only slow the progress of HCC.\n"
     ]
    },
    {
     "name": "stderr",
     "output_type": "stream",
     "text": [
      "/tmp/ipykernel_2359/668022897.py:29: SettingWithCopyWarning: \n",
      "A value is trying to be set on a copy of a slice from a DataFrame\n",
      "\n",
      "See the caveats in the documentation: https://pandas.pydata.org/pandas-docs/stable/user_guide/indexing.html#returning-a-view-versus-a-copy\n",
      "  data[\"joined_content\"][i] = joined_content\n",
      "/tmp/ipykernel_2359/668022897.py:30: SettingWithCopyWarning: \n",
      "A value is trying to be set on a copy of a slice from a DataFrame\n",
      "\n",
      "See the caveats in the documentation: https://pandas.pydata.org/pandas-docs/stable/user_guide/indexing.html#returning-a-view-versus-a-copy\n",
      "  data[\"Note\"][i] = \"qualified length\"\n"
     ]
    },
    {
     "name": "stdout",
     "output_type": "stream",
     "text": [
      "39\n",
      "Title: Hepatic lobectomies in children: experience of a center in the light of changing management of malignant liver tumors.. Abstract: Hepatic resection is the main treatment modality for hepatic tumors in childhood. Advances in diagnostic technique, preoperative preparation, surgical technique, and postoperative management increased the success rate. The aim of this study is to report our experience in hepatic lobectomy, which is relatively rare procedure in childhood. Medical records of 25 patients who underwent hepatic lobectomy between January 1977 and June 2002 were reviewed retrospectively. Age, gender, diagnosis, physical examination findings, results of preoperative laboratory investigations, radiological examination, resectability criteria, preoperative biopsies, chemotherapies, radiotherapies, postoperative pathological results, incisions, operation technique, intraoperative transfusions, drains used, antibiotic prophylaxes, and intraoperative and postoperative complications were evaluated for all patients. Out of 25 patients with hepatic tumor seven patients with hepatoblastoma and four patients with hepatocellular carcinoma were given 5.7 +/- 0.3 cycles of chemotherapy before the operation. Right lobectomy (n = 12), left lobectomy (n = 5), extended left lobectomy (n = 4), and extended right lobectomy (n = 3) and right lobectomy with enucleation of two masses from left lobe (n = 1) were performed. Intraoperative blood transfusion of 30.7+/-6.0 ml/kg body weight was necessary. Pathological examination of resected tumors revealed hepatoblastoma (n=11), mesenchymal hamartoma (n = 5), hepatocellular carcinoma (n = 4), hemangioendothelioma (n=1), malignant mesenchymal tumor (n = 1), hemangioma (n = 1), cyst adenoma (n = 1), and metastasis of cellular mesoblastic nephroma (n = 1). Patients were observed in the intensive care unit for 3.4 +/- 0.3 days. Postoperative complications were sepsis (n = 1), disseminated intravascular coagulation (n = 2), fever (n = 3), jaundice (n = 3), intraabdominal abscess (n = 3), ileus (n = 2), and subdiaphragmatic abscess with pleural effusion (n = 1). Hepatic lobectomy is a major operation, which is feasible yielding curative results in children. Safe hepatic resections with acceptable blood loss can be performed by a technique relying on good anatomic dissection and surgical control.\n"
     ]
    },
    {
     "name": "stderr",
     "output_type": "stream",
     "text": [
      "/tmp/ipykernel_2359/668022897.py:29: SettingWithCopyWarning: \n",
      "A value is trying to be set on a copy of a slice from a DataFrame\n",
      "\n",
      "See the caveats in the documentation: https://pandas.pydata.org/pandas-docs/stable/user_guide/indexing.html#returning-a-view-versus-a-copy\n",
      "  data[\"joined_content\"][i] = joined_content\n",
      "/tmp/ipykernel_2359/668022897.py:30: SettingWithCopyWarning: \n",
      "A value is trying to be set on a copy of a slice from a DataFrame\n",
      "\n",
      "See the caveats in the documentation: https://pandas.pydata.org/pandas-docs/stable/user_guide/indexing.html#returning-a-view-versus-a-copy\n",
      "  data[\"Note\"][i] = \"qualified length\"\n"
     ]
    },
    {
     "name": "stdout",
     "output_type": "stream",
     "text": [
      "40\n",
      "Title: [Laparoscopic treatment of solid and cystic tumors of the liver. Study of 33 cases].. Abstract: AIM OF THE STUDY: Laparoscopic liver surgery is still in its early stages. The aim of this study was to report our experience in the laparoscopic management of solid and cystic liver tumours. PATIENTS AND METHODS: From April 1991 to December 1999, 32 patients with various lesions of the liver underwent laparoscopic liver surgery. One group of patients presented with cysts (n = 15) (11 giant solitary cysts and 4 polycystic liver diseases) and one group of patients presented with solid tumours (n = 18): focal nodular hyperplasia (n = 8), haemangioma (n = 6), adenoma (n = 2), isolated metastasis from a colonic cancer (n = 1) and hepatocellular carcinoma (n = 1). Fifteen cyst fenestrations and eighteen liver resections were performed via a laparoscopic approach including 1 right lobectomy, 5 left lateral segmentectomies, 2 subsegmentectomies IVb, 1 segmentectomy III and 9 non-anatomical resections. RESULTS: Conversion to laparotomy was performed in one case (3%) at the end of the operation (patient who had successfully undergone left lateral segmentectomy for hepatocellular carcinoma) to check the resection margins and surgical transection had been performed in healthy parenchyma. Mean diameter of solid tumours was 6.5 cm and 15.7 cm for solitary cysts. The mean operating time for hepatic resections was 232 minutes. There was no postoperative mortality. Complications occurred in one case for each group and consisted in intestinal stricture through a port site requiring intestinal resection. Mean postoperative hospital stay was 5.6 days for solid tumours and 7.5 days for cystic lesions. In the group of cystic lesions, the recurrence rate was 50% with a 5.5-months follow-up. CONCLUSION: Laparoscopic liver surgery can be safely performed, but requires a good experience in open hepatic surgery and laparoscopic surgery. The laparoscopic approach is indicated in patients with symptomatic or atypical benign solid tumour, giant solitary cyst and polycystic liver disease, located anteriorly on the liver. Indications for malignant lesions have not been clearly defined and require further information.\n"
     ]
    },
    {
     "name": "stderr",
     "output_type": "stream",
     "text": [
      "/tmp/ipykernel_2359/668022897.py:29: SettingWithCopyWarning: \n",
      "A value is trying to be set on a copy of a slice from a DataFrame\n",
      "\n",
      "See the caveats in the documentation: https://pandas.pydata.org/pandas-docs/stable/user_guide/indexing.html#returning-a-view-versus-a-copy\n",
      "  data[\"joined_content\"][i] = joined_content\n",
      "/tmp/ipykernel_2359/668022897.py:30: SettingWithCopyWarning: \n",
      "A value is trying to be set on a copy of a slice from a DataFrame\n",
      "\n",
      "See the caveats in the documentation: https://pandas.pydata.org/pandas-docs/stable/user_guide/indexing.html#returning-a-view-versus-a-copy\n",
      "  data[\"Note\"][i] = \"qualified length\"\n"
     ]
    }
   ],
   "source": [
    "for i in na_rows:\n",
    "    try:\n",
    "        print(i)\n",
    "        temp_Title=data[\"TI\"][i]\n",
    "        temp_PMID=data[\"PMID\"][i]\n",
    "        #print(temp_PMID)\n",
    "        #print(temp_Title)\n",
    "        # Define the PMID of the article you want to retrieve\n",
    "        pmid = temp_PMID\n",
    "\n",
    "        # Use Entrez.efetch() to retrieve the article summary\n",
    "        pmid_str = str(pmid)\n",
    "\n",
    "\n",
    "        # Extract the article abstract from the record\n",
    "        # try:\n",
    "        #     handle = Entrez.efetch(db='pubmed', id=pmid_str, retmode='xml')\n",
    "        #     record = Entrez.read(handle)\n",
    "        #     abstract = record['PubmedArticle'][0]['MedlineCitation']['Article']['Abstract']['AbstractText']\n",
    "        # except KeyError:\n",
    "        #     abstract = 'No abstract found'\n",
    "\n",
    "        temp_Abstract=data[\"AB\"][i]\n",
    "\n",
    "        #print(temp_Abstract)\n",
    "        joined_content=''.join([\"Title: \",temp_Title,\". Abstract: \",temp_Abstract])\n",
    "\n",
    "        if len(joined_content) < 3000:\n",
    "            data[\"joined_content\"][i] = joined_content\n",
    "            data[\"Note\"][i] = \"qualified length\"\n",
    "        else:\n",
    "            data[\"joined_content\"][i] = joined_content\n",
    "            data[\"Note\"][i] = \"length is too long\"\n",
    "            joined_content = joined_content[0:3000]\n",
    "\n",
    "        print(joined_content)\n",
    "\n",
    "        #species#\n",
    "        try:\n",
    "            completion = openai.chat.completions.create(\n",
    "                model=MODEL, \n",
    "                messages=[{\"role\": \"system\", \"content\": \"I want you to act as a helpful assistant. I will give you title and abstract of a publication and you will reply whether it meets our criteria or not. I want you to only reply with yes, no, or not sure, and followed with reasons. The criteria is: studies that use human as primary research subject.\"},\n",
    "                          {\"role\": \"user\", \"content\": joined_content}]\n",
    "            )\n",
    "        except KeyError:\n",
    "            completion = 'completion ERROR'\n",
    "        time.sleep(0.5)\n",
    "\n",
    "        print(completion)\n",
    "        if completion == 'completion ERROR':\n",
    "            data[\"Chat_species\"][i]='completion ERROR'\n",
    "            data[\"token_species\"][i]=0\n",
    "        else:    \n",
    "            data[\"Chat_species\"][i]=completion.choices[0].message.content\n",
    "            data[\"token_species\"][i]=completion.usage.total_tokens\n",
    "\n",
    "        if \"yes\" in data[\"Chat_species\"][i][0:3].lower():\n",
    "            data[\"FoundYES_species\"][i]=\"Found\"\n",
    "        else:\n",
    "            data[\"FoundYES_species\"][i]=\"NotFound\"\n",
    "\n",
    "        if \"no.\" in data[\"Chat_species\"][i][0:3].lower():\n",
    "            data[\"FoundNO_species\"][i]=\"Found\"\n",
    "        elif \"no,\" in data[\"Chat_species\"][i][0:3].lower():\n",
    "            data[\"FoundNO_species\"][i]=\"Found\"\n",
    "        else:\n",
    "            data[\"FoundNO_species\"][i]=\"NotFound\"\n",
    "\n",
    "        if \"not sure\" in data[\"Chat_species\"][i][0:10].lower():\n",
    "            data[\"FoundNOTSURE_species\"][i]=\"Found\"\n",
    "        else:\n",
    "            data[\"FoundNOTSURE_species\"][i]=\"NotFound\"\n",
    "\n",
    "        if \"however\" in data[\"Chat_species\"][i].lower():\n",
    "            data[\"FoundHOWEVER_species\"][i]=\"Found\"\n",
    "        else:\n",
    "            data[\"FoundHOWEVER_species\"][i]=\"NotFound\"\n",
    "\n",
    "        data.to_csv(outputpath,sep=',',index=True,header=True)\n",
    "        \n",
    "        #disease#\n",
    "        try:\n",
    "            completion = client.chat.completions.create(\n",
    "                model=MODEL, \n",
    "                messages=[{\"role\": \"system\", \"content\": \"I want you to act as a helpful assistant. I will give you title and abstract of a publication and you will reply whether it meets our criteria or not. I want you to only reply with yes, no, or not sure, and followed with reasons. The criteria is: studies that involve patients with hepatocellular carcinoma.\"},\n",
    "                          {\"role\": \"user\", \"content\": joined_content}]\n",
    "            )\n",
    "        except KeyError:\n",
    "            completion = 'completion ERROR'\n",
    "        time.sleep(0.5)\n",
    "\n",
    "        print(completion)\n",
    "        if completion == 'completion ERROR':\n",
    "            data[\"Chat_disease\"][i]='completion ERROR'\n",
    "            data[\"token_disease\"][i]=0\n",
    "        else:    \n",
    "            data[\"Chat_disease\"][i]=completion.choices[0].message.content\n",
    "            data[\"token_disease\"][i]=completion.usage.total_tokens\n",
    "\n",
    "        if \"yes\" in data[\"Chat_disease\"][i][0:3].lower():\n",
    "            data[\"FoundYES_disease\"][i]=\"Found\"\n",
    "        else:\n",
    "            data[\"FoundYES_disease\"][i]=\"NotFound\"\n",
    "\n",
    "        if \"no.\" in data[\"Chat_disease\"][i][0:3].lower():\n",
    "            data[\"FoundNO_disease\"][i]=\"Found\"\n",
    "        elif \"no,\" in data[\"Chat_disease\"][i][0:3].lower():\n",
    "            data[\"FoundNO_disease\"][i]=\"Found\"\n",
    "        else:\n",
    "            data[\"FoundNO_disease\"][i]=\"NotFound\"\n",
    "\n",
    "        if \"not sure\" in data[\"Chat_disease\"][i][0:10].lower():\n",
    "            data[\"FoundNOTSURE_disease\"][i]=\"Found\"\n",
    "        else:\n",
    "            data[\"FoundNOTSURE_disease\"][i]=\"NotFound\"\n",
    "\n",
    "        if \"however\" in data[\"Chat_disease\"][i].lower():\n",
    "            data[\"FoundHOWEVER_disease\"][i]=\"Found\"\n",
    "        else:\n",
    "            data[\"FoundHOWEVER_disease\"][i]=\"NotFound\"\n",
    "\n",
    "        data.to_csv(outputpath,sep=',',index=True,header=True)\n",
    "        \n",
    "        #treatment#\n",
    "        try:\n",
    "            completion = client.chat.completions.create(\n",
    "                model=MODEL, \n",
    "                messages=[{\"role\": \"system\", \"content\": \"I want you to act as a helpful assistant. I will give you title and abstract of a publication and you will reply whether it meets our criteria or not. I want you to only reply with yes, no, or not sure, and followed with reasons. The criteria is: The title and abstract must explicitly mention that the study involves treatment of patients with one or more of the following topic: anatomical vs nonanatomical liver resection.\"},\n",
    "                          {\"role\": \"user\", \"content\": joined_content}]\n",
    "            )\n",
    "        except KeyError:\n",
    "            completion = 'completion ERROR'\n",
    "        time.sleep(0.5)\n",
    "\n",
    "        print(completion)\n",
    "        if completion == 'completion ERROR':\n",
    "            data[\"Chat_treatment\"][i]='completion ERROR'\n",
    "            data[\"token_treatment\"][i]=0\n",
    "        else:    \n",
    "            data[\"Chat_treatment\"][i]=completion.choices[0].message.content\n",
    "            data[\"token_treatment\"][i]=completion.usage.total_tokens\n",
    "\n",
    "        if \"yes\" in data[\"Chat_treatment\"][i][0:3].lower():\n",
    "            data[\"FoundYES_treatment\"][i]=\"Found\"\n",
    "        else:\n",
    "            data[\"FoundYES_treatment\"][i]=\"NotFound\"\n",
    "\n",
    "        if \"no.\" in data[\"Chat_treatment\"][i][0:3].lower():\n",
    "            data[\"FoundNO_treatment\"][i]=\"Found\"\n",
    "        elif \"no,\" in data[\"Chat_treatment\"][i][0:3].lower():\n",
    "            data[\"FoundNO_treatment\"][i]=\"Found\"\n",
    "        else:\n",
    "            data[\"FoundNO_treatment\"][i]=\"NotFound\"\n",
    "\n",
    "        if \"not sure\" in data[\"Chat_treatment\"][i][0:10].lower():\n",
    "            data[\"FoundNOTSURE_treatment\"][i]=\"Found\"\n",
    "        else:\n",
    "            data[\"FoundNOTSURE_treatment\"][i]=\"NotFound\"\n",
    "\n",
    "        if \"however\" in data[\"Chat_treatment\"][i].lower():\n",
    "            data[\"FoundHOWEVER_treatment\"][i]=\"Found\"\n",
    "        else:\n",
    "            data[\"FoundHOWEVER_treatment\"][i]=\"NotFound\"\n",
    "\n",
    "        data.to_csv(outputpath,sep=',',index=True,header=True)\n",
    "        \n",
    "        #research_type#\n",
    "        try:\n",
    "            completion = client.chat.completions.create(\n",
    "                model=model_select, \n",
    "                messages=[{\"role\": \"system\", \"content\": \"I want you to act as a helpful assistant. I will give you title and abstract of a publication and you will reply whether it meets our criteria or not. I want you to only reply with yes, no, or not sure, and followed with reasons. The criteria is: studies that was original research instead of reviews, protocol, or case report with less than five patients.\"},\n",
    "                          {\"role\": \"user\", \"content\": joined_content}]\n",
    "            )\n",
    "        except KeyError:\n",
    "            completion = 'completion ERROR'\n",
    "        time.sleep(0.5)\n",
    "\n",
    "        print(completion)\n",
    "        if completion == 'completion ERROR':\n",
    "            data[\"Chat_research_type\"][i]='completion ERROR'\n",
    "            data[\"token_research_type\"][i]=0\n",
    "        else:    \n",
    "            data[\"Chat_research_type\"][i]=completion.choices[0].message.content\n",
    "            data[\"token_research_type\"][i]=completion.usage.total_tokens\n",
    "\n",
    "        if \"yes\" in data[\"Chat_research_type\"][i][0:3].lower():\n",
    "            data[\"FoundYES_research_type\"][i]=\"Found\"\n",
    "        else:\n",
    "            data[\"FoundYES_research_type\"][i]=\"NotFound\"\n",
    "\n",
    "        if \"no.\" in data[\"Chat_research_type\"][i][0:3].lower():\n",
    "            data[\"FoundNO_research_type\"][i]=\"Found\"\n",
    "        elif \"no,\" in data[\"Chat_research_type\"][i][0:3].lower():\n",
    "            data[\"FoundNO_research_type\"][i]=\"Found\"\n",
    "        else:\n",
    "            data[\"FoundNO_research_type\"][i]=\"NotFound\"\n",
    "\n",
    "        if \"not sure\" in data[\"Chat_research_type\"][i][0:10].lower():\n",
    "            data[\"FoundNOTSURE_research_type\"][i]=\"Found\"\n",
    "        else:\n",
    "            data[\"FoundNOTSURE_research_type\"][i]=\"NotFound\"\n",
    "\n",
    "        if \"however\" in data[\"Chat_research_type\"][i].lower():\n",
    "            data[\"FoundHOWEVER_research_type\"][i]=\"Found\"\n",
    "        else:\n",
    "            data[\"FoundHOWEVER_research_type\"][i]=\"NotFound\"\n",
    "        \n",
    "        if data[\"FoundYES_species\"][i]==\"Found\" and data[\"FoundYES_disease\"][i]==\"Found\" and data[\"FoundYES_treatment\"][i]==\"Found\" and data[\"FoundYES_research_type\"][i]==\"Found\":\n",
    "            data[\"AllYES_summary\"][i]=\"Yes\"\n",
    "        else: \n",
    "            data[\"AllYES_summary\"][i]=\"No\"\n",
    "            \n",
    "        data.to_csv(outputpath,sep=',',index=True,header=True)\n",
    "    except:\n",
    "        pass"
   ]
  },
  {
   "cell_type": "code",
   "execution_count": 42,
   "metadata": {},
   "outputs": [
    {
     "data": {
      "text/html": [
       "<div>\n",
       "<style scoped>\n",
       "    .dataframe tbody tr th:only-of-type {\n",
       "        vertical-align: middle;\n",
       "    }\n",
       "\n",
       "    .dataframe tbody tr th {\n",
       "        vertical-align: top;\n",
       "    }\n",
       "\n",
       "    .dataframe thead th {\n",
       "        text-align: right;\n",
       "    }\n",
       "</style>\n",
       "<table border=\"1\" class=\"dataframe\">\n",
       "  <thead>\n",
       "    <tr style=\"text-align: right;\">\n",
       "      <th></th>\n",
       "      <th>PMID</th>\n",
       "      <th>TI</th>\n",
       "      <th>AB</th>\n",
       "      <th>joined_content</th>\n",
       "      <th>Note</th>\n",
       "      <th>Chat_species</th>\n",
       "      <th>token_species</th>\n",
       "      <th>FoundYES_species</th>\n",
       "      <th>FoundNO_species</th>\n",
       "      <th>FoundNOTSURE_species</th>\n",
       "      <th>...</th>\n",
       "      <th>FoundNO_treatment</th>\n",
       "      <th>FoundNOTSURE_treatment</th>\n",
       "      <th>FoundHOWEVER_treatment</th>\n",
       "      <th>Chat_research_type</th>\n",
       "      <th>token_research_type</th>\n",
       "      <th>FoundYES_research_type</th>\n",
       "      <th>FoundNO_research_type</th>\n",
       "      <th>FoundNOTSURE_research_type</th>\n",
       "      <th>FoundHOWEVER_research_type</th>\n",
       "      <th>AllYES_summary</th>\n",
       "    </tr>\n",
       "  </thead>\n",
       "  <tbody>\n",
       "    <tr>\n",
       "      <th>0</th>\n",
       "      <td>34853654</td>\n",
       "      <td>Anatomical vs nonanatomical liver resection fo...</td>\n",
       "      <td>BACKGROUND: The long-term survival of patients...</td>\n",
       "      <td>Title: Anatomical vs nonanatomical liver resec...</td>\n",
       "      <td>qualified length</td>\n",
       "      <td>NA</td>\n",
       "      <td>NA</td>\n",
       "      <td>NA</td>\n",
       "      <td>NA</td>\n",
       "      <td>NA</td>\n",
       "      <td>...</td>\n",
       "      <td>NA</td>\n",
       "      <td>NA</td>\n",
       "      <td>NA</td>\n",
       "      <td>NA</td>\n",
       "      <td>NA</td>\n",
       "      <td>NA</td>\n",
       "      <td>NA</td>\n",
       "      <td>NA</td>\n",
       "      <td>NA</td>\n",
       "      <td>NA</td>\n",
       "    </tr>\n",
       "    <tr>\n",
       "      <th>1</th>\n",
       "      <td>33412628</td>\n",
       "      <td>[Surgical treatment of primary liver cancer:a ...</td>\n",
       "      <td>Objective: To summarize the experience of surg...</td>\n",
       "      <td>Title: [Surgical treatment of primary liver ca...</td>\n",
       "      <td>length is too long</td>\n",
       "      <td>Yes. This publication meets the criteria as it...</td>\n",
       "      <td>NA</td>\n",
       "      <td>Found</td>\n",
       "      <td>NotFound</td>\n",
       "      <td>NotFound</td>\n",
       "      <td>...</td>\n",
       "      <td>NA</td>\n",
       "      <td>NA</td>\n",
       "      <td>NA</td>\n",
       "      <td>NA</td>\n",
       "      <td>NA</td>\n",
       "      <td>NA</td>\n",
       "      <td>NA</td>\n",
       "      <td>NA</td>\n",
       "      <td>NA</td>\n",
       "      <td>NA</td>\n",
       "    </tr>\n",
       "  </tbody>\n",
       "</table>\n",
       "<p>2 rows × 30 columns</p>\n",
       "</div>"
      ],
      "text/plain": [
       "       PMID                                                 TI  \\\n",
       "0  34853654  Anatomical vs nonanatomical liver resection fo...   \n",
       "1  33412628  [Surgical treatment of primary liver cancer:a ...   \n",
       "\n",
       "                                                  AB  \\\n",
       "0  BACKGROUND: The long-term survival of patients...   \n",
       "1  Objective: To summarize the experience of surg...   \n",
       "\n",
       "                                      joined_content                Note  \\\n",
       "0  Title: Anatomical vs nonanatomical liver resec...    qualified length   \n",
       "1  Title: [Surgical treatment of primary liver ca...  length is too long   \n",
       "\n",
       "                                        Chat_species token_species  \\\n",
       "0                                                 NA            NA   \n",
       "1  Yes. This publication meets the criteria as it...            NA   \n",
       "\n",
       "  FoundYES_species FoundNO_species FoundNOTSURE_species  ...  \\\n",
       "0               NA              NA                   NA  ...   \n",
       "1            Found        NotFound             NotFound  ...   \n",
       "\n",
       "  FoundNO_treatment FoundNOTSURE_treatment FoundHOWEVER_treatment  \\\n",
       "0                NA                     NA                     NA   \n",
       "1                NA                     NA                     NA   \n",
       "\n",
       "  Chat_research_type token_research_type FoundYES_research_type  \\\n",
       "0                 NA                  NA                     NA   \n",
       "1                 NA                  NA                     NA   \n",
       "\n",
       "  FoundNO_research_type FoundNOTSURE_research_type FoundHOWEVER_research_type  \\\n",
       "0                    NA                         NA                         NA   \n",
       "1                    NA                         NA                         NA   \n",
       "\n",
       "  AllYES_summary  \n",
       "0             NA  \n",
       "1             NA  \n",
       "\n",
       "[2 rows x 30 columns]"
      ]
     },
     "execution_count": 42,
     "metadata": {},
     "output_type": "execute_result"
    }
   ],
   "source": [
    "data.head(2)"
   ]
  },
  {
   "cell_type": "code",
   "execution_count": null,
   "metadata": {},
   "outputs": [],
   "source": []
  }
 ],
 "metadata": {
  "kernelspec": {
   "display_name": "Python 3",
   "language": "python",
   "name": "python3"
  },
  "language_info": {
   "codemirror_mode": {
    "name": "ipython",
    "version": 3
   },
   "file_extension": ".py",
   "mimetype": "text/x-python",
   "name": "python",
   "nbconvert_exporter": "python",
   "pygments_lexer": "ipython3",
   "version": "3.10.10"
  }
 },
 "nbformat": 4,
 "nbformat_minor": 2
}
